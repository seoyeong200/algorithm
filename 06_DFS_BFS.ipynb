{
 "cells": [
  {
   "cell_type": "markdown",
   "metadata": {},
   "source": [
    "https://www.acmicpc.net/step/24"
   ]
  },
  {
   "cell_type": "markdown",
   "metadata": {},
   "source": [
    "## DFS와 BFS\n",
    "그래프를 Dfs로 탐색힌 결과와 BFS로 탐색한 결과를 출력하는 프로그램을 작성하시오.\n",
    "\n",
    "방문할 수 있는 정점이 여러 개인 경우에는 정점 번호가 작은 것을 먼저 방문하고, 더 이상 방문할 수 없는 점이 없는 경우 종료한다."
   ]
  },
  {
   "cell_type": "code",
   "execution_count": 1,
   "metadata": {},
   "outputs": [
    {
     "name": "stdout",
     "output_type": "stream",
     "text": [
      "[[2], [2]]\n"
     ]
    }
   ],
   "source": [
    "n, m, v = map(int, input().split(' '))\n",
    "tmp=[]\n",
    "for _ in range(m):2\n",
    "    tmp.append(list(map(int, input().split(' '))))\n",
    "\n",
    "print(tmp)"
   ]
  },
  {
   "cell_type": "code",
   "execution_count": null,
   "metadata": {},
   "outputs": [
    {
     "data": {
      "text/plain": "[[], [], [], [], []]"
     },
     "execution_count": 34,
     "metadata": {},
     "output_type": "execute_result"
    }
   ],
   "source": [
    "tmp[0][0]\n",
    "n, m, v = 4, 5, 1\n",
    "stack = [[] for i in range(m)]; stack"
   ]
  },
  {
   "cell_type": "code",
   "execution_count": null,
   "metadata": {},
   "outputs": [
    {
     "name": "stdout",
     "output_type": "stream",
     "text": [
      "[[], [2, 3, 4], [4], [4], []]\n"
     ]
    }
   ],
   "source": [
    "stack = [[] for i in range(m)]\n",
    "for i in range(m):\n",
    "    stack[tmp[i][0]].append(tmp[i][1])\n",
    "print(stack)"
   ]
  },
  {
   "cell_type": "code",
   "execution_count": null,
   "metadata": {},
   "outputs": [
    {
     "name": "stdout",
     "output_type": "stream",
     "text": [
      "[False, False, False, False, False]\n",
      "1 2 4 3 "
     ]
    }
   ],
   "source": [
    "def dfs(graph, v, visited):\n",
    "    visited[v] = True\n",
    "    print(v, end=' ')\n",
    "    for i in graph[v]:\n",
    "        if not visited[i]:\n",
    "            dfs(graph,i, visited)\n",
    "\n",
    "stack = [[], [2, 3, 4], [4], [4], []]\n",
    "visited=[False]*(n+1); print(visited)\n",
    "dfs(stack, v, visited)"
   ]
  },
  {
   "cell_type": "code",
   "execution_count": null,
   "metadata": {},
   "outputs": [
    {
     "name": "stdout",
     "output_type": "stream",
     "text": [
      "[False, False, False, False, False]\n",
      "1 2 3 4 "
     ]
    }
   ],
   "source": [
    "from collections import deque\n",
    "def bfs(graph, start, visited):\n",
    "    q = deque([start])\n",
    "    visited[start] = True\n",
    "    while q:\n",
    "        print(q.popleft(), end=' ')\n",
    "        for i in graph[start]:\n",
    "            if not visited[i]:\n",
    "                q.append(i)\n",
    "                visited[i] = True\n",
    "\n",
    "stack = [[], [2, 3, 4], [4], [4], []]\n",
    "visited=[False]*(n+1); print(visited)\n",
    "bfs(stack, v, visited)          "
   ]
  },
  {
   "cell_type": "code",
   "execution_count": null,
   "metadata": {},
   "outputs": [],
   "source": [
    "from collections import deque\n",
    "def dfs(graph, v, visited):\n",
    "    visited[v] = True\n",
    "    print(v, end=' ')\n",
    "    for i in graph[v]:\n",
    "        if not visited[i]:\n",
    "            dfs(graph,i, visited)\n",
    "            \n",
    "            \n",
    "def bfs(graph, start, visited):\n",
    "    q = deque([start])\n",
    "    visited[start] = True\n",
    "    while q:\n",
    "        print(q.popleft(), end=' ')\n",
    "        for i in graph[start]:\n",
    "            if not visited[i]:\n",
    "                q.append(i)\n",
    "                visited[i] = True\n",
    "                \n",
    "n, m, v = map(int, input().split(' '))\n",
    "tmp=[]\n",
    "for _ in range(m):\n",
    "    tmp.append(list(map(int, input().split(' '))))\n",
    "    \n",
    "graph = [[] for i in range(m)]\n",
    "for i in range(m):\n",
    "    graph[tmp[i][0]].append(tmp[i][1])\n",
    "\n",
    "\n",
    "visited=[False]*(n+1)\n",
    "dfs(graph, v, visited)\n",
    "print()\n",
    "visited=[False]*(n+1)\n",
    "bfs(graph, v, visited)"
   ]
  },
  {
   "cell_type": "markdown",
   "metadata": {},
   "source": [
    "### Answer\n",
    "<img src=\"./img/DFS와 BFS.jpeg\" width=900 />\n"
   ]
  },
  {
   "cell_type": "code",
   "execution_count": 2,
   "metadata": {},
   "outputs": [
    {
     "name": "stdout",
     "output_type": "stream",
     "text": [
      "[[0, 0, 0, 0, 0, 0], [0, 0, 1, 1, 0, 0], [0, 1, 0, 0, 0, 1], [0, 1, 0, 0, 1, 0], [0, 0, 0, 1, 0, 1], [0, 0, 1, 0, 1, 0]]\n"
     ]
    }
   ],
   "source": [
    "n, m, v = map(int, input().split())\n",
    "matrix = [[0] * (n + 1) for _ in range(n + 1)]\n",
    "for _ in range(m):\n",
    "    line = list(map(int, input().split()))\n",
    "    matrix[line[0]][line[1]] = 1\n",
    "    matrix[line[1]][line[0]] = 1\n",
    "\n",
    "print(matrix)"
   ]
  },
  {
   "cell_type": "code",
   "execution_count": 3,
   "metadata": {},
   "outputs": [
    {
     "name": "stdout",
     "output_type": "stream",
     "text": [
      "3 1 2 5 4\n",
      "3 1 4 2 5\n"
     ]
    }
   ],
   "source": [
    "def bfs(start):\n",
    "    visited = [start]\n",
    "    queue = [start]\n",
    "    while queue:\n",
    "        n = queue.pop(0)\n",
    "        for c in range(len(matrix[start])):\n",
    "            if matrix[n][c] == 1 and (c not in visited):\n",
    "                visited.append(c)\n",
    "                queue.append(c)\n",
    "    return visited\n",
    "\n",
    "def dfs(start, visited):\n",
    "    visited += [start]\n",
    "    for c in range(len(matrix[start])):\n",
    "        if matrix[start][c] == 1 and (c not in visited):\n",
    "            dfs(c, visited)\n",
    "    return visited\n",
    "\n",
    "print(*dfs(v,[]))\n",
    "print(*bfs(v))"
   ]
  },
  {
   "cell_type": "markdown",
   "metadata": {},
   "source": [
    "## 바이러스\n",
    "네트워크를 통헤 전파되는 바이러스가 있다. 한 컴퓨터가 바이라스에 걸릴경우 연결된 모든 컴퓨터가 바이러스에 걸림\n",
    "\n",
    "컴퓨터의 수와 네트워크 상에서 서로 연결되어 있는 정보가 주어질 때, 1번 컴퓨터를 통해 바이러스에 걸리게 되는 컴퓨터의 개수를 출력하는 프로그램을 작성하시오\n",
    "\n",
    "<img src=\"./img/바이러스.jpeg\" width=600 />"
   ]
  },
  {
   "cell_type": "code",
   "execution_count": 4,
   "metadata": {},
   "outputs": [
    {
     "name": "stdout",
     "output_type": "stream",
     "text": [
      "{1: {2, 5}, 2: {1, 3, 5}, 3: {2}, 4: {7}, 5: {1, 2, 6}, 6: {5}, 7: {4}}\n"
     ]
    }
   ],
   "source": [
    "dic={}\n",
    "for i in range(int(input())):\n",
    "    dic[i+1] = set()\n",
    "for j in range(int(input())):\n",
    "    a, b = map(int,input().split())\n",
    "    dic[a].add(b)\n",
    "    dic[b].add(a)\n",
    "\n",
    "print(dic)"
   ]
  },
  {
   "cell_type": "code",
   "execution_count": 5,
   "metadata": {},
   "outputs": [
    {
     "name": "stdout",
     "output_type": "stream",
     "text": [
      "4\n"
     ]
    }
   ],
   "source": [
    "def dfs(start, dic):\n",
    "    for i in dic[start]:\n",
    "        if i not in visited:\n",
    "            visited.append(i)\n",
    "            dfs(i, dic)\n",
    "visited = []\n",
    "dfs(1, dic)\n",
    "print(len(visited)-1)"
   ]
  },
  {
   "cell_type": "markdown",
   "metadata": {},
   "source": [
    "## 단지 번호 붙이기\n",
    "정사각형의 지도에서 1은 집이 있는곳, 0은 집이 없는 곳을 나타낸다.\n",
    "\n",
    "연결된(어떤 집이 좌우 또는 위아래로 다른 집이 있는 경우 - 대각선 상에 집이 있는 경우는 연결된 것이 아님) 집들의 모임인 단지를 정의하고 단지에 번호를 붙이려 한다.\n",
    "\n",
    "ex) 그림 2는 그림 1의 단지별로 번호를 붙인 것이다.\n",
    "\n",
    "입력받은 지도를 바탕으로 단지 수를 출력하고 각 단지에 속하는 집의 수를 오름차순으로 정렬하여 출력하는 프로그램을 작성하시오\n",
    "\n",
    "<img src=\"./img/단지번호붙이기.jpg\" width=400 />\n"
   ]
  },
  {
   "cell_type": "code",
   "execution_count": 7,
   "metadata": {},
   "outputs": [
    {
     "name": "stdout",
     "output_type": "stream",
     "text": [
      "[0, 1, 1, 0, 1, 0, 0]\n",
      "[0, 1, 1, 0, 1, 0, 1]\n",
      "[1, 1, 1, 0, 1, 0, 1]\n",
      "[0, 0, 0, 0, 1, 1, 1]\n",
      "[0, 1, 0, 0, 0, 0, 0]\n",
      "[0, 1, 1, 1, 1, 1, 0]\n",
      "[0, 1, 1, 1, 0, 0, 0]\n",
      "\n",
      "[0, 0, 0, 0, 0, 0, 0]\n",
      "[0, 0, 0, 0, 0, 0, 0]\n",
      "[0, 0, 0, 0, 0, 0, 0]\n",
      "[0, 0, 0, 0, 0, 0, 0]\n",
      "[0, 0, 0, 0, 0, 0, 0]\n",
      "[0, 0, 0, 0, 0, 0, 0]\n",
      "[0, 0, 0, 0, 0, 0, 0]\n"
     ]
    }
   ],
   "source": [
    "n = int(input())\n",
    "# 데이터 저장용 공간 matrix\n",
    "matrix = [[0]*n for _ in range(n)]\n",
    "# 방문 내역 저장용 visited\n",
    "visited = [[0]*n for _ in range(n)]\n",
    "\n",
    "# matrix에 아파트 유무 0과 1 저장\n",
    "for i in range(n):\n",
    "    line = input().strip()\n",
    "    for j, b in enumerate(line):\n",
    "        matrix[i][j] = int(b)\n",
    "\n",
    "for i in range(len(matrix)): print(matrix[i])\n",
    "print()\n",
    "for i in range(len(matrix)): print(visited[i])"
   ]
  },
  {
   "cell_type": "code",
   "execution_count": 8,
   "metadata": {},
   "outputs": [
    {
     "name": "stdout",
     "output_type": "stream",
     "text": [
      "3\n",
      "7\n",
      "8\n",
      "9\n"
     ]
    }
   ],
   "source": [
    "# 방향 확인용 좌표 dx와 dy\n",
    "# 중앙을 기준으로 좌/우/위/아래\n",
    "dx = [-1, 1, 0, 0]\n",
    "dy = [0, 0, 1, -1]\n",
    "\n",
    "# DFS 함수 정의\n",
    "def dfs(x, y, c):\n",
    "    visited[x][y] = 1   # 방문 여부 표시\n",
    "    global nums            # 아파트 단지 수를 세기위한 변수\n",
    "    # 아파트가 있으면 숫자를 세어줍니다.\n",
    "    if matrix[x][y] == 1:\n",
    "        #matrix[x][y] = c # 아파트 단지별 숫자 표시용\n",
    "        nums += 1\n",
    "    # 해당 위치에서 좌/우/위/아래 방향의 좌표를 확인해서 dfs 적용\n",
    "    for i in range(4):\n",
    "        nx = x + dx[i]\n",
    "        ny = y + dy[i]\n",
    "        if 0 <= nx < n and 0 <= ny < n:\n",
    "            if visited[nx][ny] == 0 and matrix[nx][ny] == 1:\n",
    "                dfs(nx,ny, c)\n",
    "\n",
    "cnt = 1 # 아파트 단지 세기 위한\n",
    "numlist = [] # 아파트 단지별 숫자\n",
    "nums=0 # 아파트 수\n",
    "for a in range(n):\n",
    "    for b in range(n):\n",
    "        if matrix[a][b] == 1 and visited[a][b] == 0:\n",
    "            dfs(a,b,cnt)\n",
    "            numlist.append(nums)\n",
    "            nums = 0\n",
    "#            cnt += 1 # 아파트 단지 별 표시용\n",
    "\n",
    "print(len(numlist))\n",
    "for n in sorted(numlist):\n",
    "    print(n)"
   ]
  },
  {
   "cell_type": "markdown",
   "metadata": {},
   "source": [
    "## 유기농 배추\n",
    "해충을 잡아먹는 배추흰지렁이를 사용해 유기농 배추를 재배한다.\n",
    "\n",
    "어떤 배추에 지렁이가 한 마리라도 살고 있으면 이 지렁이는 인접한 다른 배추로 이동할 수 있어 그 배추들 역시 해충으로부터 보호받을 수 있다.\n",
    "\n",
    "인접 : 한 배추의 상하좌우 네 방향에 다른 배추가 위치한 경우 서로 인접해있다.\n",
    "\n",
    "배추들이 모여있으면 지렁이 한마리만 있으면 되므로 서로 인접해있는 배추들이 몇 군데에 퍼져있는지 조사하면 총 몇마리의 지렁이가 필요한지 알 수 있다. 필요한 지렁이의 최소 개수를 출력하는 프로그램을 작성하시오.\n",
    "\n",
    "<img src=\"./img/유기농배추.jpg\" width=250 />\n",
    "\n",
    "이 경우 최소 5마리의 지렁이가 필요하다."
   ]
  },
  {
   "cell_type": "code",
   "execution_count": null,
   "metadata": {},
   "outputs": [],
   "source": []
  },
  {
   "cell_type": "markdown",
   "metadata": {},
   "source": [
    "## 미로 탐색\n",
    "N x M 크기 배열로 표현되는 미로에서 1은 이동할 수 있는 칸, 0은 이동할 수 없는 칸을 나타낸다.\n",
    "\n",
    "한 칸에서 다른 칸으로 이동할 땐 서로 인접한 칸으로만 이동할 수 있다.\n",
    "\n",
    "(1, 1) 에서 출발해서 (N, M) 으로 이동할 때 지나야 하는 최소의 칸 수를 구하는 프로그램을 작성해라. 칸을 셀 땐 시작 위치와 도착 위치도 포함한다.\n",
    "\n",
    "<img src=\"./img/미로탐색.jpg\" width=380 />\n",
    "\n",
    "이 경우 15칸을 지나야 (N, M) 로 이동할 수 있다. \n"
   ]
  },
  {
   "cell_type": "code",
   "execution_count": 10,
   "metadata": {},
   "outputs": [
    {
     "name": "stdout",
     "output_type": "stream",
     "text": [
      "101111\n",
      "101010\n",
      "101011\n",
      "111011\n"
     ]
    }
   ],
   "source": [
    "N, M = map(int, input().split())\n",
    "# matrix 배열\n",
    "matrix = [input().rstrip() for _ in range(N)]\n",
    "# 방문경로 배열\n",
    "visited = [[0]*M for _ in range(N)]\n",
    "# 좌/우/위/아래 방향 이동\n",
    "dx, dy = [-1, 1, 0, 0], [0, 0, -1, 1]\n",
    "\n",
    "for i in range(len(matrix)): print(matrix[i])"
   ]
  },
  {
   "cell_type": "code",
   "execution_count": 11,
   "metadata": {},
   "outputs": [
    {
     "name": "stdout",
     "output_type": "stream",
     "text": [
      "15\n"
     ]
    }
   ],
   "source": [
    "# BFS 경로 탐색\n",
    "# queue 방식 사용\n",
    "queue = [(0,0)]\n",
    "visited[0][0] = 1\n",
    "\n",
    "while queue:\n",
    "    x, y = queue.pop(0)\n",
    "\n",
    "    if x == N-1 and y == M-1:\n",
    "        # 최종 경로 도착\n",
    "        print(visited[x][y])\n",
    "        break\n",
    "\n",
    "    for i in range(4):\n",
    "        nx = x + dx[i]\n",
    "        ny = y + dy[i]\n",
    "        if 0 <= nx < N and 0 <= ny < M:\n",
    "            if visited[nx][ny] == 0 and matrix[nx][ny] == '1':\n",
    "                visited[nx][ny] = visited[x][y] + 1\n",
    "                queue.append((nx,ny))"
   ]
  }
 ],
 "metadata": {
  "kernelspec": {
   "display_name": "Python 3.8.10 64-bit",
   "name": "python3810jvsc74a57bd00adcc2737ebf6a4a119f135174df96668767fca1ef1112612db5ecadf2b6d608"
  },
  "language_info": {
   "codemirror_mode": {
    "name": "ipython",
    "version": 3
   },
   "file_extension": ".py",
   "mimetype": "text/x-python",
   "name": "python",
   "nbconvert_exporter": "python",
   "pygments_lexer": "ipython3",
   "version": "3.8.10"
  },
  "metadata": {
   "interpreter": {
    "hash": "4cd7ab41f5fca4b9b44701077e38c5ffd31fe66a6cab21e0214b68d958d0e462"
   }
  },
  "orig_nbformat": 2
 },
 "nbformat": 4,
 "nbformat_minor": 2
}