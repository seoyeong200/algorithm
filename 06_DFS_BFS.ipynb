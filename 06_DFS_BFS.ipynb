{
 "cells": [
  {
   "cell_type": "code",
   "execution_count": null,
   "metadata": {},
   "outputs": [],
   "source": [
    "https://www.acmicpc.net/step/24"
   ]
  },
  {
   "cell_type": "markdown",
   "metadata": {},
   "source": [
    "## DFS와 BFS\n",
    "그래프를 Dfs로 탐색힌 결과와 BFS로 탐색한 결과를 출력하는 프로그램을 작성하시오.\n",
    "\n",
    "방문할 수 있는 정점이 여러 개인 경우에는 정점 번호가 작은 것을 먼저 방문하고, 더 이상 방문할 수 없는 점이 없는 경우 종료한다."
   ]
  },
  {
   "cell_type": "code",
   "execution_count": 1,
   "metadata": {},
   "outputs": [
    {
     "name": "stdout",
     "output_type": "stream",
     "text": [
      "[[2], [2]]\n"
     ]
    }
   ],
   "source": [
    "n, m, v = map(int, input().split(' '))\n",
    "tmp=[]\n",
    "for _ in range(m):2\n",
    "    tmp.append(list(map(int, input().split(' '))))\n",
    "\n",
    "print(tmp)"
   ]
  },
  {
   "cell_type": "code",
   "execution_count": null,
   "metadata": {},
   "outputs": [
    {
     "data": {
      "text/plain": "[[], [], [], [], []]"
     },
     "execution_count": 34,
     "metadata": {},
     "output_type": "execute_result"
    }
   ],
   "source": [
    "tmp[0][0]\n",
    "n, m, v = 4, 5, 1\n",
    "stack = [[] for i in range(m)]; stack"
   ]
  },
  {
   "cell_type": "code",
   "execution_count": null,
   "metadata": {},
   "outputs": [
    {
     "name": "stdout",
     "output_type": "stream",
     "text": [
      "[[], [2, 3, 4], [4], [4], []]\n"
     ]
    }
   ],
   "source": [
    "stack = [[] for i in range(m)]\n",
    "for i in range(m):\n",
    "    stack[tmp[i][0]].append(tmp[i][1])\n",
    "print(stack)"
   ]
  },
  {
   "cell_type": "code",
   "execution_count": null,
   "metadata": {},
   "outputs": [
    {
     "name": "stdout",
     "output_type": "stream",
     "text": [
      "[False, False, False, False, False]\n",
      "1 2 4 3 "
     ]
    }
   ],
   "source": [
    "def dfs(graph, v, visited):\n",
    "    visited[v] = True\n",
    "    print(v, end=' ')\n",
    "    for i in graph[v]:\n",
    "        if not visited[i]:\n",
    "            dfs(graph,i, visited)\n",
    "\n",
    "stack = [[], [2, 3, 4], [4], [4], []]\n",
    "visited=[False]*(n+1); print(visited)\n",
    "dfs(stack, v, visited)"
   ]
  },
  {
   "cell_type": "code",
   "execution_count": null,
   "metadata": {},
   "outputs": [
    {
     "name": "stdout",
     "output_type": "stream",
     "text": [
      "[False, False, False, False, False]\n",
      "1 2 3 4 "
     ]
    }
   ],
   "source": [
    "from collections import deque\n",
    "def bfs(graph, start, visited):\n",
    "    q = deque([start])\n",
    "    visited[start] = True\n",
    "    while q:\n",
    "        print(q.popleft(), end=' ')\n",
    "        for i in graph[start]:\n",
    "            if not visited[i]:\n",
    "                q.append(i)\n",
    "                visited[i] = True\n",
    "\n",
    "stack = [[], [2, 3, 4], [4], [4], []]\n",
    "visited=[False]*(n+1); print(visited)\n",
    "bfs(stack, v, visited)          "
   ]
  },
  {
   "cell_type": "code",
   "execution_count": null,
   "metadata": {},
   "outputs": [],
   "source": [
    "from collections import deque\n",
    "def dfs(graph, v, visited):\n",
    "    visited[v] = True\n",
    "    print(v, end=' ')\n",
    "    for i in graph[v]:\n",
    "        if not visited[i]:\n",
    "            dfs(graph,i, visited)\n",
    "            \n",
    "            \n",
    "def bfs(graph, start, visited):\n",
    "    q = deque([start])\n",
    "    visited[start] = True\n",
    "    while q:\n",
    "        print(q.popleft(), end=' ')\n",
    "        for i in graph[start]:\n",
    "            if not visited[i]:\n",
    "                q.append(i)\n",
    "                visited[i] = True\n",
    "                \n",
    "n, m, v = map(int, input().split(' '))\n",
    "tmp=[]\n",
    "for _ in range(m):\n",
    "    tmp.append(list(map(int, input().split(' '))))\n",
    "    \n",
    "graph = [[] for i in range(m)]\n",
    "for i in range(m):\n",
    "    graph[tmp[i][0]].append(tmp[i][1])\n",
    "\n",
    "\n",
    "visited=[False]*(n+1)\n",
    "dfs(graph, v, visited)\n",
    "print()\n",
    "visited=[False]*(n+1)\n",
    "bfs(graph, v, visited)"
   ]
  },
  {
   "cell_type": "markdown",
   "metadata": {},
   "source": [
    "### Answer\n",
    "<img src=\"./img/DFS와 BFS.jpeg\" width=900 />\n"
   ]
  },
  {
   "cell_type": "code",
   "execution_count": null,
   "metadata": {},
   "outputs": [],
   "source": []
  },
  {
   "cell_type": "markdown",
   "metadata": {},
   "source": [
    "## 바이러스\n",
    "네트워크를 통헤 전파되는 바이러스가 있다. 한 컴퓨터가 바이라스에 걸릴경우 연결된 모든 컴퓨터가 바이러스에 걸림\n",
    "\n",
    "컴퓨터의 수와 네트워크 상에서 서로 연결되어 있는 정보가 주어질 때, 1번 컴퓨터를 통해 바이러스에 걸리게 되는 컴퓨터의 개수를 출력하는 프로그램을 작성하시오\n",
    "\n",
    "<img src=\"./img/바이러스.jpeg\" width=600 />"
   ]
  },
  {
   "cell_type": "code",
   "execution_count": null,
   "metadata": {},
   "outputs": [],
   "source": []
  },
  {
   "cell_type": "markdown",
   "metadata": {},
   "source": [
    "## 단지 번호 붙이기\n",
    "정사각형의 지도에서 1은 집이 있는곳, 0은 집이 없는 곳을 나타낸다.\n",
    "\n",
    "연결된(어떤 집이 좌우 또는 위아래로 다른 집이 있는 경우 - 대각선 상에 집이 있는 경우는 연결된 것이 아님) 집들의 모임인 단지를 정의하고 단지에 번호를 붙이려 한다.\n",
    "\n",
    "ex) 그림 2는 그림 1의 단지별로 번호를 붙인 것이다.\n",
    "\n",
    "입력받은 지도를 바탕으로 단지 수를 출력하고 각 단지에 속하는 집의 수를 오름차순으로 정렬하여 출력하는 프로그램을 작성하시오\n",
    "\n",
    "<img src=\"./img/단지번호붙이기.jpg\" width=400 />\n"
   ]
  },
  {
   "cell_type": "code",
   "execution_count": null,
   "metadata": {},
   "outputs": [],
   "source": []
  },
  {
   "cell_type": "markdown",
   "metadata": {},
   "source": [
    "## 유기농 배추\n",
    "해충을 잡아먹는 배추흰지렁이를 사용해 유기농 배추를 재배한다.\n",
    "\n",
    "어떤 배추에 지렁이가 한 마리라도 살고 있으면 이 지렁이는 인접한 다른 배추로 이동할 수 있어 그 배추들 역시 해충으로부터 보호받을 수 있다.\n",
    "\n",
    "인접 : 한 배추의 상하좌우 네 방향에 다른 배추가 위치한 경우 서로 인접해있다.\n",
    "\n",
    "배추들이 모여있으면 지렁이 한마리만 있으면 되므로 서로 인접해있는 배추들이 몇 군데에 퍼져있는지 조사하면 총 몇마리의 지렁이가 필요한지 알 수 있다. 필요한 지렁이의 최소 개수를 출력하는 프로그램을 작성하시오.\n",
    "\n",
    "<img src=\"./img/유기농배추.jpg\" width=250 />\n",
    "\n",
    "이 경우 최소 5마리의 지렁이가 필요하다."
   ]
  },
  {
   "cell_type": "code",
   "execution_count": null,
   "metadata": {},
   "outputs": [],
   "source": []
  },
  {
   "cell_type": "markdown",
   "metadata": {},
   "source": [
    "## 미로 탐색\n",
    "N x M 크기 배열로 표현되는 미로에서 1은 이동할 수 있는 칸, 0은 이동할 수 없는 칸을 나타낸다.\n",
    "\n",
    "한 칸에서 다른 칸으로 이동할 땐 서로 인접한 칸으로만 이동할 수 있다.\n",
    "\n",
    "(1, 1) 에서 출발해서 (N, M) 으로 이동할 때 지나야 하는 최소의 칸 수를 구하는 프로그램을 작성해라. 칸을 셀 땐 시작 위치와 도착 위치도 포함한다.\n",
    "\n",
    "<img src=\"./img/미로탐색.jpg\" width=380 />\n",
    "\n",
    "이 경우 15칸을 지나야 (N, M) 로 이동할 수 있다. \n"
   ]
  },
  {
   "cell_type": "code",
   "execution_count": null,
   "metadata": {},
   "outputs": [],
   "source": []
  },
  {
   "cell_type": "markdown",
   "metadata": {},
   "source": []
  }
 ],
 "metadata": {
  "kernelspec": {
   "display_name": "Python 3.8.10 64-bit",
   "name": "python3810jvsc74a57bd00adcc2737ebf6a4a119f135174df96668767fca1ef1112612db5ecadf2b6d608"
  },
  "language_info": {
   "name": "python",
   "version": ""
  },
  "metadata": {
   "interpreter": {
    "hash": "4cd7ab41f5fca4b9b44701077e38c5ffd31fe66a6cab21e0214b68d958d0e462"
   }
  },
  "orig_nbformat": 2
 },
 "nbformat": 4,
 "nbformat_minor": 2
}