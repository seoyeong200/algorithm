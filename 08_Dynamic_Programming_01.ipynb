{
 "cells": [
  {
   "cell_type": "markdown",
   "metadata": {},
   "source": [
    "## 피보나치 함수\n",
    "call fi(3) \n",
    "\n",
    "fi(3) -> call fi(2), fi(1)\n",
    "            \n",
    "              fi(2) -> call fi(1), fi(0)  \n",
    "            \n",
    "\n",
    "              "
   ]
  },
  {
   "cell_type": "code",
   "execution_count": 13,
   "metadata": {},
   "outputs": [
    {
     "name": "stdout",
     "output_type": "stream",
     "text": [
      "1 \n",
      "0 \n",
      "1 \n",
      "1 \n",
      "0 \n",
      "1 \n",
      "0 \n",
      "1 \n"
     ]
    },
    {
     "data": {
      "text/plain": "5"
     },
     "execution_count": 13,
     "metadata": {},
     "output_type": "execute_result"
    }
   ],
   "source": [
    "def fib(x):\n",
    "    if x==0:\n",
    "        print(\"0 \"); return 0\n",
    "    elif x==1:\n",
    "        print (\"1 \"); return 1\n",
    "    else:\n",
    "        return fib(x-1) + fib(x-2)\n",
    "    \n",
    "\n",
    "fib(5)"
   ]
  },
  {
   "cell_type": "code",
   "execution_count": 32,
   "metadata": {},
   "outputs": [
    {
     "name": "stdout",
     "output_type": "stream",
     "text": [
      "1 0\n",
      "0 1\n",
      "1 2\n"
     ]
    }
   ],
   "source": [
    "\n",
    "\n",
    "def fib(x):\n",
    "    arr0 = [1,0]\n",
    "    arr1 = [0,1]\n",
    "    if x == 0:\n",
    "        print(arr0[0], arr1[0])\n",
    "    elif x == 1:\n",
    "        print(arr0[1], arr1[1])\n",
    "    else:\n",
    "        for i in range(2, x+1):\n",
    "            arr0.append(arr0[i-1]+arr0[i-2])\n",
    "            arr1.append(arr1[i-1]+arr1[i-2])\n",
    "        print(arr0[x], arr1[x])\n",
    "    \n",
    "\n",
    "t = int(input())\n",
    "for _ in range(t):\n",
    "    fib(int(input()))\n"
   ]
  },
  {
   "cell_type": "markdown",
   "metadata": {},
   "source": [
    "## 신나는 함수 실행\n",
    "if a <= 0 or b <= 0 or c <= 0, then w(a, b, c) returns:\n",
    " \n",
    "    1\n",
    "\n",
    "if a > 20 or b > 20 or c > 20, then w(a, b, c) returns:\n",
    "    \n",
    "    w(20, 20, 20)\n",
    "\n",
    "if a < b and b < c, then w(a, b, c) returns:\n",
    "    \n",
    "    w(a, b, c-1) + w(a, b-1, c-1) - w(a, b-1, c)\n",
    "\n",
    "otherwise it returns:\n",
    "    \n",
    "    w(a-1, b, c) + w(a-1, b-1, c) + w(a-1, b, c-1) - w(a-1, b-1, c-1)\n",
    "\n",
    "a, b, c가 주어졌을 때 w(a, b, c) 구하시오."
   ]
  },
  {
   "cell_type": "code",
   "execution_count": null,
   "metadata": {},
   "outputs": [],
   "source": [
    "MAX = 21\n",
    "dp = [[[0]*MAX for _ in range(MAX)] for __ in range(MAX)]\n",
    " \n",
    "def w(a, b, c) :\n",
    "    if a<=0 or b<=0 or c<=0 :\n",
    "        return 1\n",
    "    if a>20 or b>20 or c>20 :\n",
    "        return w(20, 20, 20)\n",
    " \n",
    "    # 값이 이미 존재한다면 그 값을 바로 리턴.\n",
    "    if dp[a][b][c]:\n",
    "        return dp[a][b][c]\n",
    " \n",
    "    if a<b<c :\n",
    "        dp[a][b][c] = w(a,b,c-1) + w(a,b-1,c-1) - w(a,b-1,c)\n",
    "        return dp[a][b][c]\n",
    " \n",
    "    dp[a][b][c] = w(a-1,b,c) + w(a-1,b-1,c) + w(a-1,b,c-1) - w(a-1,b-1,c-1)\n",
    "    return dp[a][b][c]\n",
    " \n",
    "while True :\n",
    " \n",
    "    a, b, c = map(int, input().split())\n",
    " \n",
    "    if a== -1 and b==-1 and c==-1 :\n",
    "        break\n",
    " \n",
    "    print(\"w(%d, %d, %d) = %d\"%(a, b, c, w(a, b, c)))"
   ]
  },
  {
   "cell_type": "markdown",
   "metadata": {},
   "source": [
    "## 01타일\n",
    "0 또는 1이 쓰여 있는 낱장의 타일들로 0이 쓰인 타일들을 붙여서 한 쌍으로 이루어진 00 타일들을 만들었다. \n",
    "\n",
    "따라서 현재 1 / 00 이렇게 두 종류의 타일들이 되었다.\n",
    "\n",
    "이 타일들로는 크기가 N인 모든 이진 수열을 만들 수 없다. 예를 들어 N=1일 때 1만 만들 수 있고, N=2일 땐 00, 11 을 만들 수 있다.\n",
    "(01, 10 만들기 불가) N=4일 때는 0011, 0000, 1001, 1100, 1111 로 다섯 개의 이진 수열을 만들 수 있다.\n",
    "\n",
    "N이 주어졌을 때 만들 수 있는 이진수열의 가짓수를 구하시오.\n",
    "\n",
    "입력: N --> 출력: 가짓수를 15746으로 나눈 나머지\n",
    "\n",
    "<img src=\"./img/01타일.jpeg\" width=400 />"
   ]
  },
  {
   "cell_type": "code",
   "execution_count": null,
   "metadata": {},
   "outputs": [],
   "source": [
    "n = int(input()) \n",
    "dp = [0] * 1000001 \n",
    "dp[1] = 1 \n",
    "dp[2] = 2 \n",
    "for k in range(3,n+1): \n",
    "    dp[k] = (dp[k-1]+ dp[k-2])%15746 \n",
    "    print(dp[n])"
   ]
  },
  {
   "cell_type": "markdown",
   "metadata": {},
   "source": [
    "## 파도반 수열\n",
    "<img src=\"./img/파도반 수열.jpeg\" width=400 />"
   ]
  },
  {
   "cell_type": "code",
   "execution_count": null,
   "metadata": {},
   "outputs": [],
   "source": [
    "N = int(input())\n",
    "arr = [int(input()) for _ in range(N)]\n",
    "seq = [1, 1, 1, 2, 2]\n",
    "\n",
    "for i in range(5, max(arr)):\n",
    "    seq.append(seq[i-1]+seq[i-5])\n",
    "\n",
    "for i in arr:\n",
    "    print(seq[i-1])"
   ]
  },
  {
   "cell_type": "markdown",
   "metadata": {},
   "source": [
    "## RGB 거리\n",
    "RGB거리에는 집이 N개 있다. 거리는 선분으로 나타낼 수 있고, 1번 집부터 N번 집이 순서대로 있다.\n",
    "\n",
    "집은 빨강, 초록, 파랑 중 하나의 색으로 칠해야 한다. 각각의 집을 빨강, 초록, 파랑으로 칠하는 비용이 주어졌을 때, 아래 규칙을 만족하면서 모든 집을 칠하는 비용의 최솟값을 구해보자.\n",
    "\n",
    "- 1번 집의 색은 2번 집의 색과 같지 않아야 한다.\n",
    "- N번 집의 색은 N-1번 집의 색과 같지 않아야 한다.\n",
    "- i(2 ≤ i ≤ N-1)번 집의 색은 i-1번, i+1번 집의 색과 같지 않아야 한다.\n",
    "\n",
    "<img src=\"./img/rgb거리.jpeg\" width=400 />"
   ]
  },
  {
   "cell_type": "code",
   "execution_count": null,
   "metadata": {},
   "outputs": [],
   "source": [
    "n = int(input())\n",
    "p = []\n",
    "for i in range(n):\n",
    "    p.append(list(map(int, input().split())))\n",
    "for i in range(1, len(p)):\n",
    "    p[i][0] = min(p[i - 1][1], p[i - 1][2]) + p[i][0]\n",
    "    p[i][1] = min(p[i - 1][0], p[i - 1][2]) + p[i][1]\n",
    "    p[i][2] = min(p[i - 1][0], p[i - 1][1]) + p[i][2]\n",
    "print(min(p[n - 1][0], p[n - 1][1], p[n - 1][2]))"
   ]
  },
  {
   "cell_type": "markdown",
   "metadata": {},
   "source": [
    "## 정수 삼각형\n",
    "맨 위층 7부터 시작해서 아래에 있는 수 중 하나를 선택하여 아래층으로 내려올 때, 이제까지 선택된 수의 합이 최대가 되는 경로를 구하는 프로그램을 작성하라. 아래층에 있는 수는 현재 층에서 선택된 수의 대각선 왼쪽 또는 대각선 오른쪽에 있는 것 중에서만 선택할 수 있다.\n",
    "\n",
    "<img src=\"./img/정수삼각형.jpeg\" width=400 />"
   ]
  },
  {
   "cell_type": "code",
   "execution_count": null,
   "metadata": {},
   "outputs": [],
   "source": [
    "n=int(input())\n",
    "d=[]\n",
    "for i in range(n):\n",
    "  d.append(list(map(int, input().split())))\n",
    "\n",
    "for i in range(1,n):\n",
    "  for j in range(len(d[i])):\n",
    "    if j==0:\n",
    "      d[i][j]=d[i][j]+d[i-1][j]\n",
    "    elif j==len(d[i])-1: \n",
    "      d[i][j]=d[i][j]+d[i-1][j-1]\n",
    "    else:\n",
    "      d[i][j]=max(d[i-1][j-1],d[i-1][j])+d[i][j]\n",
    "print(max(d[n-1]))"
   ]
  },
  {
   "cell_type": "markdown",
   "metadata": {},
   "source": [
    "## 계단 오르기\n",
    "규칙\n",
    "- 계단은 한 번에 한 계단씩 또는 두 계단씩 오를 수 있다. 즉, 한 계단을 밟으면서 이어서 다음 계단이나, 다음 다음 계단으로 오를 수 있다.\n",
    "- 연속된 세 개의 계단을 모두 밟아서는 안 된다. 단, 시작점은 계단에 포함되지 않는다.\n",
    "- 마지막 도착 계단은 반드시 밟아야 한다.\n",
    "\n",
    "<img src=\"./img/계단오르기.jpeg\" width=400 />"
   ]
  },
  {
   "cell_type": "code",
   "execution_count": null,
   "metadata": {},
   "outputs": [],
   "source": [
    "stair = []\n",
    "dp = []\n",
    "\n",
    "l = int(input())\n",
    "for _ in range(l):\n",
    "    stair.append(int(input()))\n",
    "\n",
    "dp.append(stair[0])\n",
    "dp.append(max(stair[0]+stair[1],stair[1]))\n",
    "dp.append(max(stair[0]+stair[2],stair[1]+stair[2]))\n",
    "for i in range(3,l):\n",
    "    dp.append(max(dp[i-2] + stair[i] , dp[i-3] + stair[i] + stair[i - 1]))\n",
    "\n",
    "print(dp.pop())"
   ]
  },
  {
   "cell_type": "markdown",
   "metadata": {},
   "source": [
    "## 1로 만들기\n",
    "정수 X에 사용할 수 있는 연산은 다음과 같이 세 가지 이다.\n",
    "\n",
    "- X가 3으로 나누어 떨어지면, 3으로 나눈다.\n",
    "- X가 2로 나누어 떨어지면, 2로 나눈다.\n",
    "- 1을 뺀다.\n",
    "정수 N이 주어졌을 때, 위와 같은 연산 세 개를 적절히 사용해서 1을 만들려고 한다. 연산을 사용하는 횟수의 최솟값을 출력하시오."
   ]
  },
  {
   "cell_type": "code",
   "execution_count": null,
   "metadata": {},
   "outputs": [],
   "source": [
    "n = int(input())\n",
    "d = [0]*(n+1)\n",
    "\n",
    "for i in range(2, n+1):\n",
    "    dp[i] = dp[i-1] + 1\n",
    "if i % 3 ==0:\n",
    "    dp[i] = min(dp[i], dp[i//3]+1 )\n",
    "if i % 2 == 0:\n",
    "    dp[i] = min(dp[i], dp[i//2] + 1)\n",
    "print(dp[n])"
   ]
  },
  {
   "cell_type": "markdown",
   "metadata": {},
   "source": [
    "## 쉬운 계단 수\n",
    "\n",
    "인접한 모든 자리수의 차이가 1인 수가 있을 때, 수의 길이가 N인 계단 수가 몇 개 있는지 구하려고 한다.\n",
    "\n",
    "N이 주어질 때, 길이가 N인 계단 스가 몇 개 있는지 구하는 프로그램을 작성하시오.\n",
    "\n",
    "<img src=\"./img/쉬운 계단 수.jpeg\" width=500 />"
   ]
  },
  {
   "cell_type": "code",
   "execution_count": null,
   "metadata": {},
   "outputs": [],
   "source": [
    "n = int(input())\n",
    "dp = [[0 for i in range(10)] for j in range(101)]\n",
    "for i in range(1, 10):\n",
    "    dp[1][i] = 1\n",
    "for i in range(2, n + 1):\n",
    "    for j in range(10):\n",
    "        if j == 0:\n",
    "            dp[i][j] = dp[i - 1][1]\n",
    "        elif j == 9:\n",
    "            dp[i][j] = dp[i - 1][8]\n",
    "        else:\n",
    "            dp[i][j] = dp[i - 1][j - 1] + dp[i - 1][j + 1]\n",
    "print(sum(dp[n]) % 1000000000)"
   ]
  },
  {
   "cell_type": "markdown",
   "metadata": {},
   "source": [
    "## 포도주 시식\n",
    "포도주 시식 규칙\n",
    "- 포도주 잔을 선택하면 그 잔을 들어있는 포도주는 모두 마셔야 하고, 마신 후에는 원래 위치에 다시 놓아야 한다.\n",
    "- 연속으로 놓여있는 3잔을 모두 마실 수는 없다.\n",
    "\n",
    "효주는 될 수 있는 대로 많은 양의 포도주를 맛보기 위해서 어떤 포도주 잔을 선택해야 할지 고민하고 있다.\n",
    "\n",
    "1부터 n까지 번호가 붙어 있는 n개의 포도주 잔이 순서대로 놓여있고, 각 포도주 잔에 들어있는 포도주 양이 주어졌을 떄, 가장 많은 양의 포도주를 마실 수 있도록 하는 프로그램을 작성하시오.\n",
    "\n",
    "ex)\n",
    "\n",
    "6개의 포도주 잔이 있고, 각각의 잔에 6, 10, 13, 9, 8, 1 만큼의 포도주가 들어있을 떄, 1, 2, 4, 5번째 포도주 잔을 선택하면, 총 포도주 양이 33으로 최대로 마실 수 있다.\n",
    "\n",
    "입력 ) 포도주 잔의 개수 n -> 다음 줄부터 n+1번째 줄까지 포도주의 양이 순서대로 주어진다.\n",
    "\n",
    "<img src=\"./img/포도주.jpeg\" width=550 />\n",
    " "
   ]
  },
  {
   "cell_type": "code",
   "execution_count": null,
   "metadata": {},
   "outputs": [],
   "source": [
    "n = int(input())\n",
    "w = [0]\n",
    "for i in range(n):\n",
    "    w.append(int(input()))\n",
    "dp = [0]\n",
    "dp.append(w[1])\n",
    "if n > 1:\n",
    "    dp.append(w[1] + w[2])\n",
    "for i in range(3, n + 1):\n",
    "    dp.append(max(dp[i - 1], dp[i - 3] + w[i - 1] + w[i], dp[i - 2] + w[i]))\n",
    "print(dp[n])"
   ]
  },
  {
   "cell_type": "markdown",
   "metadata": {},
   "source": [
    "## 가장 긴 증가하는 부분 수열\n",
    "수열 A가 주어졌을 때, 가장 긴 증가하는 부분 수열을 구하는 프로그램을 작성하시오.\n",
    "\n",
    "예를 들어, 수열 A = {10, 20, 10, 30, 20, 50} 인 경우에 가장 긴 증가하는 부분 수열은 A = {10, 20, 10, 30, 20, 50} 이고, 길이는 4이다.\n",
    "\n",
    "1. dp 1로 초기화\n",
    "\n",
    "2. 현재 위치(i)보다 이전에 있는 원소(j)가 작은지 확인 -> 크거나 같으면 가장 긴 증가하는 부분 수열이 될 수 없다. \n",
    "\n",
    "3. 작다면, 현재 위치의 이전 숫자 중, dp 최댓값을 구하고 그 길이에 1을 더해줌"
   ]
  },
  {
   "cell_type": "code",
   "execution_count": null,
   "metadata": {},
   "outputs": [],
   "source": [
    "x = int(input())\n",
    "\n",
    "arr = list(map(int, input().split()))\n",
    "\n",
    "dp = [1 for i in range(x)]\n",
    "\n",
    "for i in range(x):\n",
    "    for j in range(i):\n",
    "        if arr[i] > arr[j]:\n",
    "            dp[i] = max(dp[i], dp[j]+1)\n",
    "\n",
    "print(max(dp))"
   ]
  },
  {
   "cell_type": "markdown",
   "metadata": {},
   "source": [
    "## 가장 긴 바이토닉 부분수열\n",
    "수열 S가 어떤 수 Sk를 기준으로 S1 < S2 < ... Sk-1 < Sk > Sk+1 > ... SN-1 > SN을 만족한다면, 그 수열을 바이토닉 수열이라고 한다.\n",
    "\n",
    "예를 들어, {10, 20, 30, 25, 20}과 {10, 20, 30, 40}, {50, 40, 25, 10} 은 바이토닉 수열이지만,  {1, 2, 3, 2, 1, 2, 3, 2, 1}과 {10, 20, 30, 40, 20, 30} 은 바이토닉 수열이 아니다.\n",
    "\n",
    "수열 A가 주어졌을 때, 그 수열의 부분 수열 중 바이토닉 수열이면서 가장 긴 수열의 길이를 구하는 프로그램을 작성하시오."
   ]
  },
  {
   "cell_type": "code",
   "execution_count": null,
   "metadata": {},
   "outputs": [],
   "source": [
    "N = int(input())\n",
    "nums = list(map(int, input().split()))\n",
    "inc = [1 for i in range(N)]\n",
    "dec = [1 for i in range(N)]\n",
    "result = [0 for i in range(N)]\n",
    "\n",
    "# 가장 긴 증가하는 부분수열 \n",
    "for i in range(N):\n",
    "    for j in range(i):\n",
    "        if nums[i] > nums[j]:\n",
    "            inc[i] = max(inc[i], inc[j]+1)\n",
    "\n",
    "# 가장 긴 감소하는 부분수열\n",
    "for i in range(N-1, -1, -1):\n",
    "    for j in range(N-1, i, -1):\n",
    "        if nums[i] > nums[j]:\n",
    "            dec[i] = max(dec[i], dec[j]+1)\n",
    "\n",
    "for i in range(N):\n",
    "    result[i] = inc[i] + dec[i] -1 \n",
    "\n",
    "print(max(result))"
   ]
  },
  {
   "cell_type": "markdown",
   "metadata": {},
   "source": [
    "## 전깃줄\n",
    "두 전봇대 A, B 사이에 하나 둘씩 전깃줄을 추가하다 보니 전깃줄이 교차하는 경우가 발생했다. 합선의 위험이 있어 몇 개를 없애서 교차하는 전깃줄이 없도록 한다.\n",
    "\n",
    "전깃줄이 전봇대에 연결되는 위치는 전봇대 위에서부터 차례대로 번호가 매겨진다. 전깃줄의 개수와 전깃줄들이 두 전봇대에 연결되는 위치 번호가 주어질대, 모든 전깃줄들이 서로 교차하지 않게 하기 위해 제거할 전깃줄 최소 개수를 구하시오.\n",
    "\n",
    "<img src=\"./img/전깃줄.jpeg\" width=550 />\n"
   ]
  },
  {
   "cell_type": "code",
   "execution_count": null,
   "metadata": {},
   "outputs": [],
   "source": [
    "line = int(input())\n",
    "AB_line = []\n",
    "\n",
    "for _ in range(line):\n",
    "    A, B = map(int, input().split())\n",
    "    AB_line.append([A,B])\n",
    "\n",
    "#A오름차순으로 정렬\n",
    "AB_line = sorted(AB_line, key = lambda x: x[0])\n",
    "\n",
    "\n",
    "#LIS 구하기\n",
    "result = [[] for _ in range(line)]\n",
    "for i in range(line):\n",
    "    if i == 0:\n",
    "        result[i].append(AB_line[i][1])\n",
    "    else:\n",
    "        for j in range(0, i):\n",
    "            if result[j][-1] < AB_line[i][1]:\n",
    "                if len(result[i]) - 1 < len(result[j]):\n",
    "                    result[i] = result[j] + [AB_line[i][1]]\n",
    "        if not result[i]:\n",
    "            result[i].append(AB_line[i][1])\n",
    "\n",
    "\n",
    "#가장 긴 수열\n",
    "maximum = 0\n",
    "for i in range(line):\n",
    "    maximum = max(maximum, len(result[i]))\n",
    "\n",
    "print(line - maximum)"
   ]
  },
  {
   "cell_type": "markdown",
   "metadata": {},
   "source": [
    "## LCS\n",
    "LCS(Longest Common Subsequence, 최장 공통 부분 수열)문제는 두 수열이 주어졌을 때, 모두의 부분 수열이 되는 수열 중 가장 긴 것을 찾는 문제이다.\n",
    "\n",
    "예를 들어, ACAYKP와 CAPCAK의 LCS는 ACAK가 된다.\n",
    "\n",
    "<img src=\"./img/LCS.jpeg\" width=550 />"
   ]
  },
  {
   "cell_type": "code",
   "execution_count": null,
   "metadata": {},
   "outputs": [],
   "source": [
    "S1 = input().upper()\n",
    "S2 = input().upper()\n",
    "\n",
    "len1 = len(S1) \n",
    "len2 = len(S2) \n",
    "\n",
    "matrix = [[0] * (len2 + 1) for _ in range(len1 + 1)] \n",
    "for i in range(1, len1 + 1): \n",
    "    for j in range(1, len2 + 1): \n",
    "        if S1[i - 1] == S2[j - 1]: \n",
    "            matrix[i][j] = matrix[i - 1][j - 1] + 1 \n",
    "        else: \n",
    "            matrix[i][j] = max(matrix[i - 1][j], matrix[i][j - 1]) \n",
    "            \n",
    "print(matrix[-1][-1])"
   ]
  },
  {
   "cell_type": "markdown",
   "metadata": {},
   "source": [
    "## 연속합\n",
    "n개의 정수로 이루어진 임의의 수열이 주어진다. 이 중 연속된 몇 개의 수를 선택해서 구할 수 있는 합 중 가장 큰 합을 구하려고 한다. (수는 함 개 이상 선택해야 함)\n",
    "\n",
    "ex) 10 , -4 , 3 , 1 , 5 , 6 , -35 , 12 , 21 , -1  수열이 주어졌을 때 정답은 12+21 인 33이다.\n"
   ]
  },
  {
   "cell_type": "code",
   "execution_count": null,
   "metadata": {},
   "outputs": [],
   "source": [
    "n = int(input())\n",
    "dp = list( map(int, input().split(' ')))\n",
    " \n",
    "for i in range(1, n):\n",
    "    dp[i] = max(dp[i], dp[i] + dp[i-1])\n",
    "    \n",
    "print(max(dp))"
   ]
  },
  {
   "cell_type": "markdown",
   "metadata": {},
   "source": []
  },
  {
   "cell_type": "code",
   "execution_count": null,
   "metadata": {},
   "outputs": [],
   "source": []
  }
 ],
 "metadata": {
  "kernelspec": {
   "display_name": "Python 3.8.10 64-bit",
   "name": "python3810jvsc74a57bd00adcc2737ebf6a4a119f135174df96668767fca1ef1112612db5ecadf2b6d608"
  },
  "language_info": {
   "name": "python",
   "version": ""
  },
  "orig_nbformat": 2
 },
 "nbformat": 4,
 "nbformat_minor": 2
}