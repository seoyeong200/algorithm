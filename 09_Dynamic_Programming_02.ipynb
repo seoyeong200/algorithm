{
 "cells": [
  {
   "cell_type": "code",
   "execution_count": 2,
   "metadata": {},
   "outputs": [
    {
     "name": "stdout",
     "output_type": "stream",
     "text": [
      "[[0, 70, 0, 0], [0, 0, 0, 0], [0, 0, 0, 0], [0, 0, 0, 0]]\n",
      "[[0, 70, 0, 0], [0, 0, 60, 0], [0, 0, 0, 0], [0, 0, 0, 0]]\n",
      "[[0, 70, 160, 0], [0, 0, 60, 0], [0, 0, 0, 0], [0, 0, 0, 0]]\n",
      "[[0, 70, 160, 0], [0, 0, 60, 0], [0, 0, 0, 80], [0, 0, 0, 0]]\n",
      "[[0, 70, 160, 0], [0, 0, 60, 170], [0, 0, 0, 80], [0, 0, 0, 0]]\n",
      "[[0, 70, 160, 300], [0, 0, 60, 170], [0, 0, 0, 80], [0, 0, 0, 0]]\n",
      "300\n"
     ]
    }
   ],
   "source": [
    "import math\n",
    "\n",
    "def solve():\n",
    "    n = int(input())\n",
    "    array = [int(x) for x in input().split()]\n",
    "    dp = [[0 for _ in range(n)] for _ in range(n)]\n",
    "    # 지금 세로 방향으로 채워지는 거니까, 0번째는 이미 0으로 채워진것\n",
    "    for j in range(1, n):\n",
    "        for i in range(j-1, -1, -1):\n",
    "            small = math.inf\n",
    "            for k in range(j-i):\n",
    "                x = i+k\n",
    "                small = min(small, dp[i][x] + dp[x+1][j])\n",
    "            dp[i][j] = small + sum(array[i:j+1])\n",
    "            # print(dp)\n",
    "\n",
    "    print(dp[0][n-1])\n",
    "\n",
    "t = int(input())\n",
    "for _ in range(t):\n",
    "    solve()"
   ]
  },
  {
   "cell_type": "markdown",
   "metadata": {},
   "source": []
  }
 ],
 "metadata": {
  "kernelspec": {
   "display_name": "Python 3.7.4 64-bit",
   "name": "python374jvsc74a57bd04cd7ab41f5fca4b9b44701077e38c5ffd31fe66a6cab21e0214b68d958d0e462"
  },
  "language_info": {
   "name": "python",
   "version": ""
  },
  "orig_nbformat": 2
 },
 "nbformat": 4,
 "nbformat_minor": 2
}