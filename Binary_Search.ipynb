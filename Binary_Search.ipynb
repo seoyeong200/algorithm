{
 "cells": [
  {
   "cell_type": "markdown",
   "metadata": {},
   "source": [
    "https://www.acmicpc.net/step/29"
   ]
  },
  {
   "cell_type": "markdown",
   "metadata": {},
   "source": [
    "## 수 찾기\n",
    "N개의 정수 A[1], A[2], …, A[N]이 주어져 있을 때, 이 안에 X라는 정수가 존재하는지 알아내는 프로그램을 작성하시오.\n",
    "\n",
    "5\n",
    "\n",
    "4 1 5 2 3\n",
    "\n",
    "5\n",
    "\n",
    "1 3 7 9 5"
   ]
  },
  {
   "cell_type": "code",
   "execution_count": 6,
   "metadata": {},
   "outputs": [
    {
     "name": "stdout",
     "output_type": "stream",
     "text": [
      "1\n",
      "1\n",
      "0\n",
      "0\n",
      "1\n"
     ]
    }
   ],
   "source": [
    "value = int(input())\n",
    "array = list(map(int,input().split(' ')))\n",
    "\n",
    "length = int(input())\n",
    "search_val = list(map(int,input().split(' ')))\n",
    "array.sort()\n",
    "for val in search_val:\n",
    "    left = 0; right = value-1; flag= False\n",
    "    while left<=right:\n",
    "        pivot = (left+right)//2\n",
    "        if array[pivot] == val:\n",
    "            flag = True\n",
    "            break\n",
    "        elif array[pivot] < val:\n",
    "            left = pivot+1\n",
    "        else:\n",
    "            right = pivot-1\n",
    "        \n",
    "    if flag: print(1)\n",
    "    else: print(0)"
   ]
  },
  {
   "cell_type": "markdown",
   "metadata": {},
   "source": [
    "## 숫자카드 2\n",
    "- 숫자 카드는 정수 하나가 적혀져 있는 카드다. 상근이는 숫자 카드 n개를 가지고 있다.\n",
    "- 정수 m개가 주여졌을 때, 이 수가 적혀있는 숫자 카드를 상근이가 몇 개 가지고 있는지 구하기"
   ]
  },
  {
   "cell_type": "markdown",
   "metadata": {},
   "source": [
    "입력받기"
   ]
  },
  {
   "cell_type": "code",
   "execution_count": 35,
   "metadata": {},
   "outputs": [
    {
     "name": "stdout",
     "output_type": "stream",
     "text": [
      "10  :  [6, 3, 2, 10, 10, 10, -10, -10, 7, 3]\n",
      "8  :  [10, 9, -5, 2, 3, 4, 5, -10]\n"
     ]
    }
   ],
   "source": [
    "n = int(input())\n",
    "n_list = list(map(int,input().split(' ')))\n",
    "\n",
    "m = int(input())\n",
    "m_list = list(map(int,input().split(' ')))\n",
    "print(n, \" : \" ,n_list)\n",
    "print(m, \" : \",m_list)"
   ]
  },
  {
   "cell_type": "markdown",
   "metadata": {},
   "source": [
    "set - 개수 저장할 dict 초기화하는 방법!"
   ]
  },
  {
   "cell_type": "code",
   "execution_count": 18,
   "metadata": {},
   "outputs": [
    {
     "name": "stdout",
     "output_type": "stream",
     "text": [
      "{2: 0, 3: 0, 4: 0, 5: 0, 9: 0, 10: 0, -10: 0, -5: 0}\n",
      "{2: 2, 3: 0, 4: 0, 5: 0, 9: 0, 10: 0, -10: 0, -5: 0}\n"
     ]
    }
   ],
   "source": [
    "a = {e:0 for e in set(m_list)}; print(a)\n",
    "a[2] +=1; a[2]+=1; print(a)"
   ]
  },
  {
   "cell_type": "markdown",
   "metadata": {},
   "source": [
    "알고리즘"
   ]
  },
  {
   "cell_type": "code",
   "execution_count": 37,
   "metadata": {},
   "outputs": [
    {
     "name": "stdout",
     "output_type": "stream",
     "text": [
      "{2: 1, 3: 2, 4: 0, 5: 0, 9: 0, 10: 3, -10: 2, -5: 0}\n"
     ]
    }
   ],
   "source": [
    "n_list.sort()\n",
    "answer_dict = {e:0 for e in set(m_list)}\n",
    "for m in m_list:\n",
    "    left = 0; right=n-1\n",
    "    while left<=right:\n",
    "        pivot = (left+right)//2         # 반으로 나눠서 이진 탐색할 인덱스 설정\n",
    "        if n_list[pivot] == m:          # 값 찾음 -> 더 있는지 양쪽으로 확인\n",
    "            answer_dict[m]+=1\n",
    "            a, b = pivot-1, pivot+1\n",
    "            while a >= 0:               # 처음~찾는값-1 더 있는지 확인\n",
    "                if n_list[a] != m: \n",
    "                    break\n",
    "                else:\n",
    "                    answer_dict[m] += 1\n",
    "                a -= 1\n",
    "            while b < n:               # 찾는값+1 ~ 끝 더 있는지 확인\n",
    "                if n_list[b] != m:\n",
    "                    break\n",
    "                else:\n",
    "                    answer_dict[m] += 1\n",
    "                b += 1\n",
    "            break\n",
    "        elif n_list[pivot] < m:\n",
    "            left = pivot+1\n",
    "        else:\n",
    "            right = pivot-1\n",
    "print(answer_dict)\n"
   ]
  },
  {
   "cell_type": "code",
   "execution_count": 40,
   "metadata": {},
   "outputs": [
    {
     "name": "stdout",
     "output_type": "stream",
     "text": [
      "3 0 0 1 2 0 0 2 "
     ]
    }
   ],
   "source": [
    "for m in m_list:\n",
    "    print(answer_dict[m], end=' ')"
   ]
  },
  {
   "cell_type": "markdown",
   "metadata": {},
   "source": [
    "## 랜선자르기\n",
    "- 길이가 제각각인 K개의 랜선을 같은 길이의 랜선 N개로 만들고 싶다.\n",
    "- 예를 들어 300cm짜리 랜선에서 140cm짜리 랜선 두개를 잘라내면 20cm는 버려야함\n",
    "- 만들 수 있는 최대 랜선의 길이 구하기\n",
    "\n",
    "입력 : 가지고 있는 랜선 수 K, 필요한 같은 길이의 랜선 수 N -> K개 랜선의 각 길이 ; 출력 : 200\n",
    "\n",
    "4 11\n",
    "\n",
    "802\n",
    "\n",
    "743\n",
    "\n",
    "457\n",
    "\n",
    "539"
   ]
  },
  {
   "cell_type": "code",
   "execution_count": 23,
   "metadata": {},
   "outputs": [
    {
     "name": "stdout",
     "output_type": "stream",
     "text": [
      "4 11 [802, 743, 457, 539]\n"
     ]
    }
   ],
   "source": [
    "k, n = map(int,input().split(' '))\n",
    "lst= []\n",
    "for _ in range(k):\n",
    "    lst.append(int(input()))\n",
    "print(k, n, lst)"
   ]
  },
  {
   "cell_type": "code",
   "execution_count": 24,
   "metadata": {},
   "outputs": [
    {
     "name": "stdout",
     "output_type": "stream",
     "text": [
      "n :  11\n",
      "[457, 539, 743, 802]\n",
      "l, r :  1 802\n",
      "401 cm로 자른 후 랜선 개수  :  5\n",
      "l, r :  1 400\n",
      "200 cm로 자른 후 랜선 개수  :  11\n",
      "원하는 m개 맞춰서 잘라짐\n",
      "l, r :  201 400\n",
      "300 cm로 자른 후 랜선 개수  :  6\n",
      "l, r :  201 299\n",
      "250 cm로 자른 후 랜선 개수  :  8\n",
      "l, r :  201 249\n",
      "225 cm로 자른 후 랜선 개수  :  10\n",
      "l, r :  201 224\n",
      "212 cm로 자른 후 랜선 개수  :  10\n",
      "l, r :  201 211\n",
      "206 cm로 자른 후 랜선 개수  :  10\n",
      "l, r :  201 205\n",
      "203 cm로 자른 후 랜선 개수  :  10\n",
      "l, r :  201 202\n",
      "201 cm로 자른 후 랜선 개수  :  10\n",
      "ans :  200\n"
     ]
    }
   ],
   "source": [
    "lst.sort()\n",
    "left = 1; right = lst[k-1]\n",
    "answer = 0\n",
    "\n",
    "print(\"n : \",n )\n",
    "print(lst)\n",
    "while(left<=right):\n",
    "    line_total = 0\n",
    "    mid = (left+right)//2; print('l, r : ', left, right)\n",
    "    for x in lst: \n",
    "        line_total += x // mid\n",
    "    print(mid,'cm로 자른 후 랜선 개수  : ',line_total)\n",
    "\n",
    "    if line_total < n: # mid맞춰서 잘랐는데 필요한 랜선 수보다 적음 -> mid를 더 작게 잡아서 잘게 잘라야함\n",
    "        right = mid - 1\n",
    "    else: # mid맞춰서 자르니 랜선 수의 합이 필요한 랜선 수 맞춤\n",
    "        print(\"원하는 m개 맞춰서 잘라짐\")\n",
    "        answer = mid\n",
    "        left = mid + 1 \n",
    "print(\"ans : \",answer)"
   ]
  },
  {
   "cell_type": "markdown",
   "metadata": {},
   "source": [
    "## 나무 자르기\n",
    "- 적어도 m미터의 나무를 가져가기 위해서 절단기에 설정할 수 있는 높이의 최댓값을 구한다.\n",
    "- 나무 개수 n과 가져가려고 하는 나무의 길이 m이 주어진 후, n개 나무 각각의 높이가 주어진다.\n",
    "- ex) 나무의 높이가 20, 15, 10, 17 이고, 높이를 15로 정해서 자르면 \n",
    "- 나무를 자른 후의 높이가 15, 15, 10, 15가 되고, \n",
    "- 상근이는 길이가 5인 나무, 2인 나무 두 개 -> 총 7미터를 가지고 돌아간다.\n",
    "\n",
    "입력: n, m -> h list ; 출력 : 15\n",
    "\n",
    "4 7 \n",
    "\n",
    "20 15 10 17   "
   ]
  },
  {
   "cell_type": "code",
   "execution_count": 28,
   "metadata": {},
   "outputs": [],
   "source": [
    "n, m = map(int, input().split())\n",
    "height = list(map(int, input().split(' ')))"
   ]
  },
  {
   "cell_type": "code",
   "execution_count": 42,
   "metadata": {},
   "outputs": [
    {
     "name": "stdout",
     "output_type": "stream",
     "text": [
      "m : 7 [20, 15, 10, 17]\n",
      "-----\n",
      "l, r , mid:  1 20 10\n",
      "10 15 15 22 \n",
      "-----\n",
      "l, r , mid:  11 20 15\n",
      "5 5 7 \n",
      "-----\n",
      "l, r , mid:  16 20 18\n",
      "2 \n",
      "-----\n",
      "l, r , mid:  16 17 16\n",
      "4 5 \n",
      "\n",
      " 15\n"
     ]
    }
   ],
   "source": [
    "print('m :',m, height)\n",
    "left = 1\n",
    "right = max(height)\n",
    "\n",
    "while left <= right:\n",
    "    tree_total = 0\n",
    "    mid = (left + right) // 2\n",
    "    print(\"-----\")\n",
    "    print(\"l, r , mid: \", left, right, mid)\n",
    "    for x in height:\n",
    "        if x >= mid: \n",
    "            tree_total += x - mid; print(tree_total, end=' ')\n",
    "    # print(\"벌목한 길이\",tree_total)\n",
    "    print()\n",
    "\n",
    "    if tree_total >= m: # 절단기 높이가 mid일 때 가져갈 수 있는 나무의 길이가 m 이상이면 절단기 높이를 올려도 된다\n",
    "        left = mid + 1\n",
    "    else: # 절단기 높이 mid가 가져갈 수 있는 나무 길이보다 작으면 높이를 내려야함\n",
    "        right = mid - 1\n",
    "print('\\n',right)"
   ]
  }
 ],
 "metadata": {
  "kernelspec": {
   "display_name": "Python 3.7.4 64-bit",
   "name": "python374jvsc74a57bd04cd7ab41f5fca4b9b44701077e38c5ffd31fe66a6cab21e0214b68d958d0e462"
  },
  "language_info": {
   "codemirror_mode": {
    "name": "ipython",
    "version": 3
   },
   "file_extension": ".py",
   "mimetype": "text/x-python",
   "name": "python",
   "nbconvert_exporter": "python",
   "pygments_lexer": "ipython3",
   "version": "3.7.4"
  },
  "metadata": {
   "interpreter": {
    "hash": "4cd7ab41f5fca4b9b44701077e38c5ffd31fe66a6cab21e0214b68d958d0e462"
   }
  },
  "orig_nbformat": 2
 },
 "nbformat": 4,
 "nbformat_minor": 2
}