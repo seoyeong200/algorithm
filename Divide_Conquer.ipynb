{
 "cells": [
  {
   "cell_type": "markdown",
   "metadata": {},
   "source": [
    "https://www.acmicpc.net/step/20"
   ]
  },
  {
   "cell_type": "markdown",
   "metadata": {},
   "source": [
    "## 색종이 만들기\n",
    " <img src=\"./img/colorpaper.jpg\" width=400 height=600 />"
   ]
  },
  {
   "cell_type": "code",
   "execution_count": null,
   "metadata": {},
   "outputs": [
    {
     "data": {
      "text/plain": "[[1, 1, 0, 0, 0, 0, 1, 1],\n [1, 1, 0, 0, 0, 0, 1, 1],\n [0, 0, 0, 0, 1, 1, 0, 0],\n [0, 0, 0, 0, 1, 1, 0, 0],\n [1, 0, 0, 0, 1, 1, 1, 1],\n [0, 1, 0, 0, 1, 1, 1, 1],\n [0, 0, 1, 1, 1, 1, 1, 1],\n [0, 0, 1, 1, 1, 1, 1, 1]]"
     },
     "execution_count": 2,
     "metadata": {},
     "output_type": "execute_result"
    }
   ],
   "source": [
    "n = int(input())\n",
    "paper = [[0 for i in range(n)] for j in range(n)]\n",
    "for i in range(n):\n",
    "    paper[i] = list(map(int, input().split(' ')))\n",
    "paper"
   ]
  },
  {
   "cell_type": "markdown",
   "metadata": {},
   "source": [
    "mid // 2 =4 일 때\n",
    "- 1사분면 : paper[:4][0-3][:4]\n",
    "- 2사분면 : paper[:4][0-3][4:]\n",
    "- 3사분면 : paper[4:][0-3][:4]\n",
    "- 4사분면 : paper[4:][0-3][4:]"
   ]
  },
  {
   "cell_type": "code",
   "execution_count": null,
   "metadata": {},
   "outputs": [],
   "source": [
    "def check(lst):\n",
    "    tmp = set(lst)\n",
    "    if len(tmp) == 1:\n",
    "        if 0 in tmp: return 0\n",
    "        else: return 1\n",
    "    else: return -1\n",
    "\n",
    "# partition = [[0 for i in range(4)] for j in range(4)]\n",
    "blue=0; white=0\n",
    "mid = n\n",
    "while mid != 0:\n",
    "    mid = mid // 2\n",
    "    # partition = [[0 for i in range(4)] for j in range(4)]\n",
    "    first=[]; second=[]; third=[]; fourth=[]\n",
    "    check_lst=[]\n",
    "    for i in range(4):\n",
    "        first += first[:mid][i][:mid]\n",
    "        second += second[:mid][i][mid:]\n",
    "        third += third[mid:][i][:mid]\n",
    "        fourth += fourth[mid:][i][mid:]\n",
    "    check_lst=[first, second, third, fourth]; print(check_lst)\n",
    "    for c in check_lst:\n",
    "        if check(c)==1: blue+1\n",
    "        elif check(c)==0: white+1\n",
    "    \n",
    "\n",
    "print(blue, white)       "
   ]
  },
  {
   "cell_type": "markdown",
   "metadata": {},
   "source": [
    "풀이"
   ]
  },
  {
   "cell_type": "code",
   "execution_count": 2,
   "metadata": {},
   "outputs": [
    {
     "data": {
      "text/plain": "[[1, 1, 0, 0, 0, 0, 1, 1],\n [1, 1, 0, 0, 0, 0, 1, 1],\n [0, 0, 0, 0, 1, 1, 0, 0],\n [0, 0, 0, 0, 1, 1, 0, 0],\n [1, 0, 0, 0, 1, 1, 1, 1],\n [0, 1, 0, 0, 1, 1, 1, 1],\n [0, 0, 1, 1, 1, 1, 1, 1],\n [0, 0, 1, 1, 1, 1, 1, 1]]"
     },
     "execution_count": 2,
     "metadata": {},
     "output_type": "execute_result"
    }
   ],
   "source": [
    "n = int(input())\n",
    "paper = [list(map(int, input().split(' '))) for _ in range(n)]\n",
    "paper"
   ]
  },
  {
   "cell_type": "code",
   "execution_count": 4,
   "metadata": {},
   "outputs": [
    {
     "name": "stdout",
     "output_type": "stream",
     "text": [
      "white:  9\n",
      "blue:  7\n"
     ]
    }
   ],
   "source": [
    "result = []\n",
    "def solution(x, y, n):\n",
    "    color = paper[x][y]\n",
    "    for i in range(x, x+n):\n",
    "        for j in range(y, y+n):\n",
    "            if color != paper[i][j]: # 범위안에 한개라도 다른경우는 4분면으로 나눠서 다시 검색\n",
    "                result.append(\"(\") # 4분면으로 나눌때 괄호를 친다.\n",
    "                k=n//2\n",
    "                solution(x,y,k)\n",
    "                solution(x, y+k, k)\n",
    "                solution(x+k, y, k)\n",
    "                solution(x+k, y+k, k)\n",
    "                result.append(\")\")\n",
    "                return\n",
    "    result.append(color) # 재귀로 안들어가고 for문이 전부 다 끝난 상태이기 때문에 범위안에 모든수가 같다고 볼 수 있다.\n",
    "\n",
    "solution(0,0,n)\n",
    "print('white: ', result.count(0))\n",
    "print('blue: ', result.count(1))"
   ]
  },
  {
   "cell_type": "markdown",
   "metadata": {},
   "source": [
    "## 쿼드트리\n",
    " <img src=\"./img/분할정복-2.jpg\" width=400 height=600 />"
   ]
  },
  {
   "cell_type": "code",
   "execution_count": 5,
   "metadata": {},
   "outputs": [
    {
     "data": {
      "text/plain": "[[1, 1, 1, 1, 0, 0, 0, 0],\n [1, 1, 1, 1, 0, 0, 0, 0],\n [0, 0, 0, 1, 1, 1, 0, 0],\n [0, 0, 0, 1, 1, 1, 0, 0],\n [1, 1, 1, 1, 0, 0, 0, 0],\n [1, 1, 1, 1, 0, 0, 0, 0],\n [1, 1, 1, 1, 0, 0, 1, 1],\n [1, 1, 1, 1, 0, 0, 1, 1]]"
     },
     "execution_count": 5,
     "metadata": {},
     "output_type": "execute_result"
    }
   ],
   "source": [
    "n = int(input())\n",
    "image = [list(map(int, input())) for _ in range(n)]\n",
    "image"
   ]
  },
  {
   "cell_type": "code",
   "execution_count": 6,
   "metadata": {},
   "outputs": [
    {
     "name": "stdout",
     "output_type": "stream",
     "text": [
      "((110(0101))(0010)1(0001))\n"
     ]
    }
   ],
   "source": [
    "result = []\n",
    "def solution(x, y, n):\n",
    "    color = image[x][y]\n",
    "    for i in range(x, x+n):\n",
    "        for j in range(y, y+n):\n",
    "            if color != image[i][j]: # 범위안에 한개라도 다른경우는 4분면으로 나눠서 다시 검색\n",
    "                result.append(\"(\") # 4분면으로 나눌때 괄호를 친다.\n",
    "                k=n//2\n",
    "                solution(x,y,k)\n",
    "                solution(x, y+k, k)\n",
    "                solution(x+k, y, k)\n",
    "                solution(x+k, y+k, k)\n",
    "                result.append(\")\")\n",
    "                return\n",
    "    result.append(color) # 재귀로 안들어가고 for문이 전부 다 끝난 상태이기 때문에 범위안에 모든수가 같다고 볼 수 있다.\n",
    "\n",
    "solution(0,0,n)\n",
    "print(\"\".join(map(str,result)))"
   ]
  },
  {
   "cell_type": "markdown",
   "metadata": {},
   "source": [
    "## 종이의 개수\n",
    " <img src=\"./img/분할정복-3.jpg\" width=400 height=600 />"
   ]
  },
  {
   "cell_type": "code",
   "execution_count": 2,
   "metadata": {},
   "outputs": [
    {
     "data": {
      "text/plain": "[[0, 0, 0, 1, 1, 1, -1, -1, -1],\n [0, 0, 0, 1, 1, 1, -1, -1, -1],\n [0, 0, 0, 1, 1, 1, -1, -1, -1],\n [1, 1, 1, 0, 0, 0, 0, 0, 0],\n [1, 1, 1, 0, 0, 0, 0, 0, 0],\n [1, 1, 1, 0, 0, 0, 0, 0, 0],\n [0, 1, -1, 0, 1, -1, 0, 1, -1],\n [0, -1, 1, 0, 1, -1, 0, 1, -1],\n [0, 1, -1, 1, 0, -1, 0, 1, -1]]"
     },
     "execution_count": 2,
     "metadata": {},
     "output_type": "execute_result"
    }
   ],
   "source": [
    "n = int(input())\n",
    "paper = []\n",
    "for i in range(n):\n",
    "    row = list(map(int, input().split(' ')))\n",
    "    paper.append(row)\n",
    "paper"
   ]
  },
  {
   "cell_type": "code",
   "execution_count": 4,
   "metadata": {},
   "outputs": [
    {
     "name": "stdout",
     "output_type": "stream",
     "text": [
      "0:  12\n",
      "1:  11\n",
      "-1:  10\n"
     ]
    }
   ],
   "source": [
    "result = []\n",
    "def solution(x, y, n):\n",
    "    num = paper[x][y]\n",
    "    for i in range(x, x+n):\n",
    "        for j in range(y, y+n):\n",
    "            if num != paper[i][j]:\n",
    "                k = n // 3\n",
    "                solution(x, y, k)\n",
    "                solution(x, y+k, k)\n",
    "                solution(x, y+2*k, k)\n",
    "                solution(x+k, y, k)\n",
    "                solution(x+k, y+k, k)\n",
    "                solution(x+k, y+2*k, k)\n",
    "                solution(x+2*k, y, k)\n",
    "                solution(x+2*k, y+k, k)\n",
    "                solution(x+2*k, y+2*k, k)\n",
    "                return\n",
    "\n",
    "    result.append(num)\n",
    "\n",
    "###########\n",
    "solution(0, 0, n)\n",
    "print('0: ', result.count(0))\n",
    "print('1: ', result.count(1))\n",
    "print('-1: ', result.count(-1))"
   ]
  },
  {
   "cell_type": "markdown",
   "metadata": {},
   "source": [
    "## 곱셈\n",
    "<img src=\"./img/분할정복-4.jpg\" width=400 height=600 />"
   ]
  },
  {
   "cell_type": "code",
   "execution_count": 1,
   "metadata": {},
   "outputs": [
    {
     "name": "stdout",
     "output_type": "stream",
     "text": [
      "4\n"
     ]
    }
   ],
   "source": [
    "a, b, c = map(int, input().split(' '))\n",
    "\n",
    "def solution(a, b):\n",
    "    if b == 1:\n",
    "        return a % c\n",
    "    \n",
    "    divided = solution(a, b//2)\n",
    "    if b % 2 == 0:\n",
    "        return divided * divided % c\n",
    "    else:\n",
    "        return divided * divided * a % c\n",
    "\n",
    "print(solution(a, b))"
   ]
  },
  {
   "cell_type": "markdown",
   "metadata": {},
   "source": [
    "## 이항계수 3\n",
    "<img src=\"./img/분할정복-5.jpg\" width=400 height=600 />"
   ]
  },
  {
   "cell_type": "code",
   "execution_count": 11,
   "metadata": {},
   "outputs": [
    {
     "name": "stdout",
     "output_type": "stream",
     "text": [
      "10\n"
     ]
    }
   ],
   "source": [
    "p = 1000000007\n",
    "N, K = map(int, input().split(' '))\n",
    "\n",
    "def power(a, b):\n",
    "    if b == 0:\n",
    "        return 1\n",
    "    if b % 2:   #\n",
    "        return (power(a, b//2) ** 2 * a) % p\n",
    "    else:\n",
    "        return (power(a, b//2) ** 2) % p\n",
    "\n",
    "fact = [1 for _ in range(N+1)]\n",
    "\n",
    "for i in range(2, N+1):\n",
    "    fact[i] = fact[i-1] * i % p\n",
    "\n",
    "A = fact[N]\n",
    "B = (fact[N-K] * fact[K]) % p\n",
    "print((A % p) * (power(B, p-2) % p) % p )"
   ]
  },
  {
   "cell_type": "markdown",
   "metadata": {},
   "source": [
    "## 행렬 곱셈\n",
    "<img src=\"./img/분할정복-6.jpg\" width=400 height=600 />"
   ]
  },
  {
   "cell_type": "code",
   "execution_count": 16,
   "metadata": {},
   "outputs": [
    {
     "name": "stdout",
     "output_type": "stream",
     "text": [
      "[[1, 2], [3, 4], [5, 6]]\n",
      "[[-1, -2, 0], [0, 0, 3]]\n"
     ]
    }
   ],
   "source": [
    "n, m = map(int, input().split())\n",
    "a = [list(map(int, input().split())) for _ in range(n)]\n",
    "m, k = map(int, input().split())\n",
    "b = [list(map(int, input().split())) for _ in range(m)]\n",
    "print(a)\n",
    "print(b)"
   ]
  },
  {
   "cell_type": "code",
   "execution_count": 18,
   "metadata": {},
   "outputs": [
    {
     "name": "stdout",
     "output_type": "stream",
     "text": [
      "-1 -2 6 \n",
      "-3 -6 12 \n",
      "-5 -10 18 \n"
     ]
    }
   ],
   "source": [
    "answer = [[0 for _ in range(n)] for _ in range(k)]\n",
    "for i in range(n):\n",
    "    for j in range(k):\n",
    "        for p in range(m):\n",
    "            answer[i][j] += a[i][p] * b[p][j]\n",
    "\n",
    "for row in answer:\n",
    "    for elem in row:\n",
    "        print(elem, end = ' ')\n",
    "    print()"
   ]
  },
  {
   "cell_type": "markdown",
   "metadata": {},
   "source": [
    "## 행렬 제곱"
   ]
  },
  {
   "cell_type": "code",
   "execution_count": null,
   "metadata": {},
   "outputs": [],
   "source": []
  }
 ],
 "metadata": {
  "kernelspec": {
   "display_name": "Python 3.9.5 64-bit",
   "name": "python395jvsc74a57bd0397704579725e15f5c7cb49fe5f0341eb7531c82d19f2c29d197e8b64ab5776b"
  },
  "language_info": {
   "name": "python",
   "version": ""
  },
  "metadata": {
   "interpreter": {
    "hash": "397704579725e15f5c7cb49fe5f0341eb7531c82d19f2c29d197e8b64ab5776b"
   }
  },
  "orig_nbformat": 2
 },
 "nbformat": 4,
 "nbformat_minor": 2
}