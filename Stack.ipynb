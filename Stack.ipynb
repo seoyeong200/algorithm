{
 "cells": [
  {
   "cell_type": "markdown",
   "metadata": {},
   "source": [
    "https://www.acmicpc.net/step/11"
   ]
  },
  {
   "cell_type": "markdown",
   "metadata": {},
   "source": [
    "## 스택"
   ]
  },
  {
   "cell_type": "code",
   "execution_count": 14,
   "metadata": {},
   "outputs": [
    {
     "name": "stdout",
     "output_type": "stream",
     "text": [
      "-1 \n",
      "-1 \n",
      "123\n",
      "123\n",
      "-1 \n",
      "-1 \n"
     ]
    }
   ],
   "source": [
    "n = int(input())\n",
    "stack=[]\n",
    "\n",
    "for _ in range(n):\n",
    "    cmd = list(input().split())\n",
    "    if cmd[0] == 'push':\n",
    "        stack.append(int(cmd[1]))\n",
    "    elif cmd[0] == 'pop':\n",
    "        if len(stack)==0: print(-1, '')\n",
    "        else: print(stack.pop())\n",
    "    elif cmd[0] == 'size':\n",
    "        print(len(stack))\n",
    "    elif cmd[0] == 'empty':\n",
    "        if len(stack)==0: print(1)\n",
    "        else: print(0)\n",
    "    elif cmd[0] == 'top':\n",
    "        if len(stack) == 0: print(-1, '')\n",
    "        else: print(stack[-1])"
   ]
  },
  {
   "cell_type": "markdown",
   "metadata": {},
   "source": [
    "## 제로\n",
    "- 정수 k -> 0에서 1000000 사이 값이 들어옴\n",
    "- 들어오는 값이 0이면 가장 최근에 쓴 수를 지우고 0이 아니면 해당 수를 씀\n",
    "- 0이 들어올 경우 지울 수 있는 수가 항상 있음 보장함\n",
    "- 나재민이 최종적으로 적은 수의 합 구하기"
   ]
  },
  {
   "cell_type": "code",
   "execution_count": 15,
   "metadata": {},
   "outputs": [
    {
     "name": "stdout",
     "output_type": "stream",
     "text": [
      "0\n"
     ]
    }
   ],
   "source": [
    "n = int(input())\n",
    "stack = []\n",
    "for _ in range(n):\n",
    "    num = int(input())\n",
    "    if num != 0:\n",
    "        stack.append(num)\n",
    "    else:\n",
    "        stack.pop()\n",
    "print(sum(stack))\n"
   ]
  },
  {
   "cell_type": "markdown",
   "metadata": {},
   "source": [
    "## 괄호\n",
    "잘 닫혔는지 확인  \n",
    "\n",
    "\n",
    "|cmd|output|\n",
    "|------------|----|\n",
    "|(())())|no|\n",
    "|(((()())()|no|\n",
    "|(()())((()))|yes|\n",
    "|((()()(()))(((())))()|no|\n",
    "|()()()()(()()())()|yes|\n",
    "|(()((())()(|no|"
   ]
  },
  {
   "cell_type": "code",
   "execution_count": 16,
   "metadata": {},
   "outputs": [
    {
     "name": "stdout",
     "output_type": "stream",
     "text": [
      "NO\n",
      "NO\n",
      "NO\n",
      "YES\n",
      "NO\n",
      "YES\n",
      "NO\n"
     ]
    }
   ],
   "source": [
    "n = int(input())\n",
    "result = []\n",
    "for _ in range(n):\n",
    "    stack = input()\n",
    "    stack = list(stack)\n",
    "    sum = 0\n",
    "    for s in stack:\n",
    "        if s == \"(\":\n",
    "            sum += 1\n",
    "        elif s == \")\":\n",
    "            sum -= 1\n",
    "        if sum < 0:\n",
    "            print('NO')\n",
    "            break\n",
    "\n",
    "    if sum == 0:\n",
    "        print('YES')\n",
    "    else:\n",
    "        print('NO')"
   ]
  },
  {
   "cell_type": "markdown",
   "metadata": {},
   "source": [
    "## 균형잡힌 세상\n",
    "|cmd|output|\n",
    "|------------|----|\n",
    "|So when I die (the [first] I will see in (heaven) is a score list).|yes|\n",
    "[ first in ] ( first out ).|yes|\n",
    "|Half Moon tonight (At least it is better than no Moon at all].|no|\n",
    "A rope may form )( a trail in a maze.|no|\n",
    "|Help( I[m being held prisoner in a fortune cookie factory)].|no|\n",
    "|([ (([( [ ] ) ( ) (( ))] )) ]).|yes|\n",
    "| .|yes|\n",
    "|.||"
   ]
  },
  {
   "cell_type": "code",
   "execution_count": null,
   "metadata": {},
   "outputs": [],
   "source": []
  },
  {
   "cell_type": "markdown",
   "metadata": {},
   "source": [
    "## 스택 수열"
   ]
  },
  {
   "cell_type": "code",
   "execution_count": null,
   "metadata": {},
   "outputs": [],
   "source": []
  },
  {
   "cell_type": "markdown",
   "metadata": {},
   "source": [
    "## 오큰수"
   ]
  },
  {
   "cell_type": "code",
   "execution_count": null,
   "metadata": {},
   "outputs": [],
   "source": []
  }
 ],
 "metadata": {
  "kernelspec": {
   "display_name": "Python 3.7.4 64-bit",
   "name": "python374jvsc74a57bd04cd7ab41f5fca4b9b44701077e38c5ffd31fe66a6cab21e0214b68d958d0e462"
  },
  "language_info": {
   "codemirror_mode": {
    "name": "ipython",
    "version": 3
   },
   "file_extension": ".py",
   "mimetype": "text/x-python",
   "name": "python",
   "nbconvert_exporter": "python",
   "pygments_lexer": "ipython3",
   "version": "3.7.4"
  },
  "metadata": {
   "interpreter": {
    "hash": "4cd7ab41f5fca4b9b44701077e38c5ffd31fe66a6cab21e0214b68d958d0e462"
   }
  },
  "orig_nbformat": 2
 },
 "nbformat": 4,
 "nbformat_minor": 2
}