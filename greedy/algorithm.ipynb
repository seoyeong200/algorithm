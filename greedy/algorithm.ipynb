{
 "cells": [
  {
   "cell_type": "markdown",
   "metadata": {},
   "source": [
    "백준 그리디 알고리즘 단계\n",
    "https://www.acmicpc.net/step/33"
   ]
  },
  {
   "cell_type": "markdown",
   "metadata": {},
   "source": [
    "## 회의실배정\n",
    "- 둘째 줄부터 회의 시작시갇과 끝나는 시간을 입력받는다.\n",
    "- 회의가 한번 시작하면 중간에 중단될 수 없고, 끝나자마자 다음 회의 시작 가능"
   ]
  },
  {
   "cell_type": "code",
   "execution_count": 47,
   "metadata": {},
   "outputs": [
    {
     "name": "stdout",
     "output_type": "stream",
     "text": [
      "[1, 3, 0, 5, 3, 5, 6, 8, 8, 2, 12]\n",
      "[4, 5, 6, 7, 8, 9, 10, 11, 12, 13, 14]\n"
     ]
    }
   ],
   "source": [
    "n = int(input())\n",
    "s = []\n",
    "f = []\n",
    "\n",
    "for i in range(n):\n",
    "    time = input()\n",
    "    s.append(int(time.split(' ')[0]))\n",
    "    f.append(int(time.split(' ')[1]))    \n",
    "print(s)\n",
    "print(f)"
   ]
  },
  {
   "cell_type": "code",
   "execution_count": null,
   "metadata": {},
   "outputs": [
    {
     "name": "stdout",
     "output_type": "stream",
     "text": [
      "3 번째 회의의 시작시간:  5   0 번째 회의 종료시간:  4\n",
      "현재 포함된 회의 개수:  2\n",
      "7 번째 회의의 시작시간:  8   3 번째 회의 종료시간:  7\n",
      "현재 포함된 회의 개수:  3\n",
      "10 번째 회의의 시작시간:  12   7 번째 회의 종료시간:  11\n",
      "현재 포함된 회의 개수:  4\n",
      "4\n"
     ]
    }
   ],
   "source": [
    "answer = 1 # 선택된 회의 개수\n",
    "index = 0 # 선택된 activity 의 index\n",
    "for m in range(1, n):\n",
    "    # m번째 activity 시작시간 >= 선택된 activity의 종료시간\n",
    "    if s[m] >= f[index]:\n",
    "        print(m, \"번째 회의의 시작시간: \", s[m],\" \",index, \"번째 회의 종료시간: \", f[index])\n",
    "        index = m \n",
    "        answer += 1\n",
    "        print(\"현재 포함된 회의 개수: \", answer)\n",
    "print(answer)"
   ]
  },
  {
   "cell_type": "markdown",
   "metadata": {},
   "source": [
    "### 이차원 배열로 풀기"
   ]
  },
  {
   "cell_type": "code",
   "execution_count": null,
   "metadata": {},
   "outputs": [
    {
     "name": "stdout",
     "output_type": "stream",
     "text": [
      "[[1, 4], [3, 5], [0, 6], [5, 7], [3, 8], [5, 9], [6, 10], [8, 11], [8, 12], [2, 13], [12, 14]]\n"
     ]
    }
   ],
   "source": [
    "n = int(input())\n",
    "# # # 이차원 배열 초기화하기\n",
    "# # # [ [0 for i in range(col)] for j in range(row)]\n",
    "activity = [[0 for i in range(2)] for j in range(n)]\n",
    "for i in range(n):\n",
    "    activity[i][0], activity[i][1] = map(int, input().split())\n",
    "print(activity)"
   ]
  },
  {
   "cell_type": "code",
   "execution_count": null,
   "metadata": {},
   "outputs": [
    {
     "name": "stdout",
     "output_type": "stream",
     "text": [
      "4\n"
     ]
    }
   ],
   "source": [
    "index = 0\n",
    "answer = 1\n",
    "for m in range(1, n):\n",
    "    if (activity[m][0] >= activity[index][1]):\n",
    "        answer+=1\n",
    "        index = m\n",
    "print(answer)"
   ]
  },
  {
   "cell_type": "markdown",
   "metadata": {},
   "source": [
    "## ATM\n",
    "- n명의 사람이 줄을 서있고, 각 사람이 돈을 인출하는데 걸리는 시간 배열 p 가 주어질 때,\n",
    "- 모든 사람이 돈을 인출하는데 걸리는 시간의 최소값을 구하기"
   ]
  },
  {
   "cell_type": "code",
   "execution_count": null,
   "metadata": {},
   "outputs": [
    {
     "name": "stdout",
     "output_type": "stream",
     "text": [
      "[1, 2, 3, 3, 4]\n"
     ]
    }
   ],
   "source": [
    "n = int(input())\n",
    "time = map(int, input().split(\" \"))\n",
    "time = sorted(time)\n",
    "print(time)"
   ]
  },
  {
   "cell_type": "code",
   "execution_count": null,
   "metadata": {},
   "outputs": [
    {
     "name": "stdout",
     "output_type": "stream",
     "text": [
      "32\n"
     ]
    }
   ],
   "source": [
    "answer, tmp = time[0], time[0]\n",
    "for i in range(1, n):\n",
    "    tmp += time[i]\n",
    "    answer += tmp\n",
    "print(answer)"
   ]
  },
  {
   "cell_type": "markdown",
   "metadata": {},
   "source": [
    "## 동전 0\n",
    "- n 종류의 동전을 가지고 있고, 얘를 조합해서 합을 k로 만드려고 한다.\n",
    "- 이때 필요한 동전의 최솟값을 구하기\n",
    "- 입력 : n, k -> 동전 가치 (오름차순)"
   ]
  },
  {
   "cell_type": "code",
   "execution_count": 38,
   "metadata": {},
   "outputs": [],
   "source": [
    "n, k = map(int, input().split(\" \"))\n",
    "value = []\n",
    "for i in range(n):\n",
    "    value.append(int(input()))"
   ]
  },
  {
   "cell_type": "code",
   "execution_count": 39,
   "metadata": {},
   "outputs": [
    {
     "name": "stdout",
     "output_type": "stream",
     "text": [
      "6\n"
     ]
    }
   ],
   "source": [
    "answer = 0\n",
    "value.reverse()\n",
    "for val in value:\n",
    "    if k >= val:\n",
    "        answer += k // val\n",
    "        k = k % val\n",
    "print(answer)"
   ]
  },
  {
   "cell_type": "markdown",
   "metadata": {},
   "source": [
    "## 잃어버린 괄호\n",
    "- 양수, +, -, 괄호로 식을 만든 후, 괄호를 모두 지웠다.\n",
    "- 다시 괄호를 쳐서 식의 값을 최소로 만들고 싶다면?\n",
    "- 입력 : 0-9, +, - 만으로 이루어진 식\n",
    "    - 처음과 마지막은 숫자고, 연산자가 연속해서 나타나지 않고, 5자리보다 많이 연속되는 숫자는 없다\n",
    "    - 수가 0으로 시작할 수 있다.\n",
    "    - 식의 길이는 50보다 작거나 같다"
   ]
  },
  {
   "cell_type": "code",
   "execution_count": 45,
   "metadata": {},
   "outputs": [
    {
     "name": "stdout",
     "output_type": "stream",
     "text": [
      "['5+2', '1+4', '7+9+2']\n",
      "['1+2']\n"
     ]
    }
   ],
   "source": [
    "a = '5+2-1+4-7+9+2'\n",
    "a = a.split('-'); print(a)\n",
    "a = '1+2'\n",
    "a = a.split('-'); print(a)"
   ]
  },
  {
   "cell_type": "code",
   "execution_count": 46,
   "metadata": {},
   "outputs": [
    {
     "name": "stdout",
     "output_type": "stream",
     "text": [
      "-35\n"
     ]
    }
   ],
   "source": [
    "from functools import reduce\n",
    "expression = input().split('-')\n",
    "answer = reduce(lambda x, y:x+y, map(int, expression[0].split('+')))\n",
    "\n",
    "for i in expression[1:]:\n",
    "    answer-= reduce(lambda x, y:x+y, map(int, i.split('+')))\n",
    "print(answer)"
   ]
  },
  {
   "cell_type": "markdown",
   "metadata": {},
   "source": [
    "## 주유소\n",
    "- <img src=\"./img/oil.jpeg\" width=400 height=150 />\n",
    "- 걱 도시에 있는 주유소의 기름 가격, 각 도시를 연결하는 도로 길이를 입력으로 받아 가장 왼뽁 도시에서 오른쪽 도시로 이동하는 최소 비용?\n",
    "- 입력 : 도시 개수 n -> 도로 길이 (n-1개) -> 주유소 리터 당 가격"
   ]
  },
  {
   "cell_type": "code",
   "execution_count": 50,
   "metadata": {},
   "outputs": [
    {
     "name": "stdout",
     "output_type": "stream",
     "text": [
      "4\n",
      "[2, 3, 1]\n",
      "[5, 2, 4, 1]\n"
     ]
    }
   ],
   "source": [
    "n = int(input()); print(n)\n",
    "len = list(map(int, input().split(' '))); print(len)\n",
    "price = list(map(int, input().split(' '))); print(price)"
   ]
  },
  {
   "cell_type": "code",
   "execution_count": 59,
   "metadata": {},
   "outputs": [
    {
     "name": "stdout",
     "output_type": "stream",
     "text": [
      "18\n"
     ]
    }
   ],
   "source": [
    "answer = 0\n",
    "km = 0\n",
    "min = price[0]\n",
    "for i in range(0, n-1):\n",
    "    km += len[i]\n",
    "    if min >= price[i] : # 가장 저렴한 도시가 나타났다\n",
    "        min = price[i]\n",
    "        answer += min * km\n",
    "        km = 0\n",
    "answer += min * len[-1] # 마지막 도시 가기\n",
    "print(answer)"
   ]
  }
 ],
 "metadata": {
  "kernelspec": {
   "display_name": "Python 3.8.10 64-bit",
   "name": "python3810jvsc74a57bd0aee8b7b246df8f9039afb4144a1f6fd8d2ca17a180786b69acc140d282b71a49"
  },
  "language_info": {
   "codemirror_mode": {
    "name": "ipython",
    "version": 3
   },
   "file_extension": ".py",
   "mimetype": "text/x-python",
   "name": "python",
   "nbconvert_exporter": "python",
   "pygments_lexer": "ipython3",
   "version": "3.7.4"
  },
  "metadata": {
   "interpreter": {
    "hash": "4cd7ab41f5fca4b9b44701077e38c5ffd31fe66a6cab21e0214b68d958d0e462"
   }
  },
  "orig_nbformat": 2
 },
 "nbformat": 4,
 "nbformat_minor": 2
}