{
 "cells": [
  {
   "cell_type": "markdown",
   "metadata": {},
   "source": [
    "## 회의실배정\n",
    "- 둘째 줄부터 회의 시작시갇과 끝나는 시간을 입력받는다.\n",
    "- 회의가 한번 시작하면 중간에 중단될 수 없고, 끝나자마자 다음 회의 시작 가능"
   ]
  },
  {
   "cell_type": "code",
   "execution_count": 21,
   "metadata": {},
   "outputs": [
    {
     "name": "stdout",
     "output_type": "stream",
     "text": [
      "[1, 3, 0, 5, 3, 5, 6, 8, 8, 2, 12]\n",
      "[4, 5, 6, 7, 8, 9, 10, 11, 12, 13, 14]\n"
     ]
    }
   ],
   "source": [
    "n = int(input())\n",
    "s = []\n",
    "f = []\n",
    "\n",
    "for i in range(n):\n",
    "    time = input()\n",
    "    s.append(int(time.split(' ')[0]))\n",
    "    f.append(int(time.split(' ')[1]))\n",
    "    \n",
    "    # time.append(input().split(' '))\n",
    "    \n",
    "print(s)\n",
    "print(f)"
   ]
  },
  {
   "cell_type": "code",
   "execution_count": 22,
   "metadata": {},
   "outputs": [
    {
     "name": "stdout",
     "output_type": "stream",
     "text": [
      "3 번째 회의의 시작시간:  5   0 번째 회의 종료시간:  4\n",
      "현재 포함된 회의 개수:  2\n",
      "7 번째 회의의 시작시간:  8   3 번째 회의 종료시간:  7\n",
      "현재 포함된 회의 개수:  3\n",
      "10 번째 회의의 시작시간:  12   7 번째 회의 종료시간:  11\n",
      "현재 포함된 회의 개수:  4\n",
      "4\n"
     ]
    }
   ],
   "source": [
    "answer = 1 # 선택된 회의 개수\n",
    "index = 0 # 선택된 activity 의 index\n",
    "for m in range(1, n):\n",
    "    # m번째 activity 시작시간 >= 선택된 activity의 종료시간\n",
    "    if s[m] >= f[index]:\n",
    "        print(m, \"번째 회의의 시작시간: \", s[m],\" \",index, \"번째 회의 종료시간: \", f[index])\n",
    "        index = m \n",
    "        answer += 1\n",
    "        print(\"현재 포함된 회의 개수: \", answer)\n",
    "print(answer)"
   ]
  },
  {
   "cell_type": "markdown",
   "metadata": {},
   "source": [
    "이차원 배열로 풀기"
   ]
  },
  {
   "cell_type": "code",
   "execution_count": 2,
   "metadata": {},
   "outputs": [
    {
     "name": "stdout",
     "output_type": "stream",
     "text": [
      "[[1, 4], [3, 5], [0, 6], [5, 7], [3, 8], [5, 9], [6, 10], [8, 11], [8, 12], [2, 13], [12, 14]]\n"
     ]
    }
   ],
   "source": [
    "n = int(input())\n",
    "# # # 이차원 배열 초기화하기\n",
    "# # # [ [0 for i in range(col)] for j in range(row)]\n",
    "activity = [[0 for i in range(2)] for j in range(n)]\n",
    "for i in range(n):\n",
    "    activity[i][0], activity[i][1] = map(int, input().split())\n",
    "print(activity)"
   ]
  },
  {
   "cell_type": "code",
   "execution_count": null,
   "metadata": {},
   "outputs": [],
   "source": []
  },
  {
   "cell_type": "markdown",
   "metadata": {},
   "source": [
    "ATM\n",
    "- n명의 사람이 줄을 서있고, 각 사람이 돈을 인출하는데 걸리는 시간 배열 p 가 주어질 때,\n",
    "- 모든 사람이 돈을 인출하는데 걸리는 시간의 최소값을 구하기"
   ]
  },
  {
   "cell_type": "code",
   "execution_count": null,
   "metadata": {},
   "outputs": [],
   "source": [
    "n = input()\n"
   ]
  }
 ],
 "metadata": {
  "kernelspec": {
   "display_name": "Python 3.8.10 64-bit",
   "name": "python3810jvsc74a57bd0aee8b7b246df8f9039afb4144a1f6fd8d2ca17a180786b69acc140d282b71a49"
  },
  "language_info": {
   "codemirror_mode": {
    "name": "ipython",
    "version": 3
   },
   "file_extension": ".py",
   "mimetype": "text/x-python",
   "name": "python",
   "nbconvert_exporter": "python",
   "pygments_lexer": "ipython3",
   "version": "3.7.4"
  },
  "metadata": {
   "interpreter": {
    "hash": "4cd7ab41f5fca4b9b44701077e38c5ffd31fe66a6cab21e0214b68d958d0e462"
   }
  },
  "orig_nbformat": 2
 },
 "nbformat": 4,
 "nbformat_minor": 2
}